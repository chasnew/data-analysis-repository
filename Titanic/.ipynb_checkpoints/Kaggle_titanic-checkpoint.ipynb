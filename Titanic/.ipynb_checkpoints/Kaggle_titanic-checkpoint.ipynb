{
 "cells": [
  {
   "cell_type": "code",
   "execution_count": 1,
   "metadata": {
    "collapsed": true
   },
   "outputs": [],
   "source": [
    "import numpy as np\n",
    "import pandas as pd\n",
    "import matplotlib.pyplot as plt\n",
    "import seaborn as sns\n",
    "from scipy import stats\n",
    "import itertools\n",
    "\n",
    "from sklearn import preprocessing\n",
    "from sklearn import svm, metrics, neural_network, linear_model, ensemble\n",
    "import xgboost as xgb\n",
    "\n",
    "from sklearn.model_selection import train_test_split\n",
    "from sklearn.model_selection import GridSearchCV\n",
    "\n",
    "import warnings\n",
    "warnings.filterwarnings('ignore')"
   ]
  },
  {
   "cell_type": "code",
   "execution_count": 2,
   "metadata": {
    "collapsed": true
   },
   "outputs": [],
   "source": [
    "data = pd.read_csv('train.csv')"
   ]
  },
  {
   "cell_type": "code",
   "execution_count": 3,
   "metadata": {},
   "outputs": [
    {
     "name": "stdout",
     "output_type": "stream",
     "text": [
      "<class 'pandas.core.frame.DataFrame'>\n",
      "RangeIndex: 891 entries, 0 to 890\n",
      "Data columns (total 12 columns):\n",
      "PassengerId    891 non-null int64\n",
      "Survived       891 non-null int64\n",
      "Pclass         891 non-null int64\n",
      "Name           891 non-null object\n",
      "Sex            891 non-null object\n",
      "Age            714 non-null float64\n",
      "SibSp          891 non-null int64\n",
      "Parch          891 non-null int64\n",
      "Ticket         891 non-null object\n",
      "Fare           891 non-null float64\n",
      "Cabin          204 non-null object\n",
      "Embarked       889 non-null object\n",
      "dtypes: float64(2), int64(5), object(5)\n",
      "memory usage: 83.6+ KB\n",
      "None\n"
     ]
    }
   ],
   "source": [
    "print(data.info())"
   ]
  },
  {
   "cell_type": "markdown",
   "metadata": {},
   "source": [
    "## VariableDefinition\n",
    "survival: Survival 0 = No, 1 = Yes \n",
    "\n",
    "pclass: Ticket class 1 = 1st, 2 = 2nd, 3 = 3rd \n",
    "\n",
    "Sex: 'male', 'female'\n",
    "\n",
    "sibsp: # of siblings / spouses aboard the Titanic \n",
    "\n",
    "parch: # of parents / children aboard the Titanic\n",
    "\n",
    "ticket: Ticket number\n",
    "\n",
    "fare: Passenger fare \n",
    "\n",
    "cabin: Cabin number \n",
    "\n",
    "embarked: Port of Embarkation (C = Cherbourg, Q = Queenstown, S = Southampton)\n",
    "\n",
    "### Variable Notes\n",
    "pclass: A proxy for socio-economic status (SES)\n",
    "1st = Upper\n",
    "2nd = Middle\n",
    "3rd = Lower\n",
    "\n",
    "age: Age is fractional if less than 1. If the age is estimated, is it in the form of xx.5\n",
    "\n",
    "sibsp: The dataset defines family relations in this way...\n",
    "Sibling = brother, sister, stepbrother, stepsister\n",
    "Spouse = husband, wife (mistresses and fiancés were ignored)\n",
    "\n",
    "parch: The dataset defines family relations in this way...\n",
    "Parent = mother, father\n",
    "Child = daughter, son, stepdaughter, stepson\n",
    "Some children travelled only with a nanny, therefore parch=0 for them."
   ]
  },
  {
   "cell_type": "code",
   "execution_count": 4,
   "metadata": {},
   "outputs": [
    {
     "data": {
      "text/html": [
       "<div>\n",
       "<style scoped>\n",
       "    .dataframe tbody tr th:only-of-type {\n",
       "        vertical-align: middle;\n",
       "    }\n",
       "\n",
       "    .dataframe tbody tr th {\n",
       "        vertical-align: top;\n",
       "    }\n",
       "\n",
       "    .dataframe thead th {\n",
       "        text-align: right;\n",
       "    }\n",
       "</style>\n",
       "<table border=\"1\" class=\"dataframe\">\n",
       "  <thead>\n",
       "    <tr style=\"text-align: right;\">\n",
       "      <th></th>\n",
       "      <th>PassengerId</th>\n",
       "      <th>Survived</th>\n",
       "      <th>Pclass</th>\n",
       "      <th>Name</th>\n",
       "      <th>Sex</th>\n",
       "      <th>Age</th>\n",
       "      <th>SibSp</th>\n",
       "      <th>Parch</th>\n",
       "      <th>Ticket</th>\n",
       "      <th>Fare</th>\n",
       "      <th>Cabin</th>\n",
       "      <th>Embarked</th>\n",
       "    </tr>\n",
       "  </thead>\n",
       "  <tbody>\n",
       "    <tr>\n",
       "      <th>0</th>\n",
       "      <td>1</td>\n",
       "      <td>0</td>\n",
       "      <td>3</td>\n",
       "      <td>Braund, Mr. Owen Harris</td>\n",
       "      <td>male</td>\n",
       "      <td>22.0</td>\n",
       "      <td>1</td>\n",
       "      <td>0</td>\n",
       "      <td>A/5 21171</td>\n",
       "      <td>7.2500</td>\n",
       "      <td>NaN</td>\n",
       "      <td>S</td>\n",
       "    </tr>\n",
       "    <tr>\n",
       "      <th>1</th>\n",
       "      <td>2</td>\n",
       "      <td>1</td>\n",
       "      <td>1</td>\n",
       "      <td>Cumings, Mrs. John Bradley (Florence Briggs Th...</td>\n",
       "      <td>female</td>\n",
       "      <td>38.0</td>\n",
       "      <td>1</td>\n",
       "      <td>0</td>\n",
       "      <td>PC 17599</td>\n",
       "      <td>71.2833</td>\n",
       "      <td>C85</td>\n",
       "      <td>C</td>\n",
       "    </tr>\n",
       "    <tr>\n",
       "      <th>2</th>\n",
       "      <td>3</td>\n",
       "      <td>1</td>\n",
       "      <td>3</td>\n",
       "      <td>Heikkinen, Miss. Laina</td>\n",
       "      <td>female</td>\n",
       "      <td>26.0</td>\n",
       "      <td>0</td>\n",
       "      <td>0</td>\n",
       "      <td>STON/O2. 3101282</td>\n",
       "      <td>7.9250</td>\n",
       "      <td>NaN</td>\n",
       "      <td>S</td>\n",
       "    </tr>\n",
       "    <tr>\n",
       "      <th>3</th>\n",
       "      <td>4</td>\n",
       "      <td>1</td>\n",
       "      <td>1</td>\n",
       "      <td>Futrelle, Mrs. Jacques Heath (Lily May Peel)</td>\n",
       "      <td>female</td>\n",
       "      <td>35.0</td>\n",
       "      <td>1</td>\n",
       "      <td>0</td>\n",
       "      <td>113803</td>\n",
       "      <td>53.1000</td>\n",
       "      <td>C123</td>\n",
       "      <td>S</td>\n",
       "    </tr>\n",
       "    <tr>\n",
       "      <th>4</th>\n",
       "      <td>5</td>\n",
       "      <td>0</td>\n",
       "      <td>3</td>\n",
       "      <td>Allen, Mr. William Henry</td>\n",
       "      <td>male</td>\n",
       "      <td>35.0</td>\n",
       "      <td>0</td>\n",
       "      <td>0</td>\n",
       "      <td>373450</td>\n",
       "      <td>8.0500</td>\n",
       "      <td>NaN</td>\n",
       "      <td>S</td>\n",
       "    </tr>\n",
       "    <tr>\n",
       "      <th>5</th>\n",
       "      <td>6</td>\n",
       "      <td>0</td>\n",
       "      <td>3</td>\n",
       "      <td>Moran, Mr. James</td>\n",
       "      <td>male</td>\n",
       "      <td>NaN</td>\n",
       "      <td>0</td>\n",
       "      <td>0</td>\n",
       "      <td>330877</td>\n",
       "      <td>8.4583</td>\n",
       "      <td>NaN</td>\n",
       "      <td>Q</td>\n",
       "    </tr>\n",
       "    <tr>\n",
       "      <th>6</th>\n",
       "      <td>7</td>\n",
       "      <td>0</td>\n",
       "      <td>1</td>\n",
       "      <td>McCarthy, Mr. Timothy J</td>\n",
       "      <td>male</td>\n",
       "      <td>54.0</td>\n",
       "      <td>0</td>\n",
       "      <td>0</td>\n",
       "      <td>17463</td>\n",
       "      <td>51.8625</td>\n",
       "      <td>E46</td>\n",
       "      <td>S</td>\n",
       "    </tr>\n",
       "    <tr>\n",
       "      <th>7</th>\n",
       "      <td>8</td>\n",
       "      <td>0</td>\n",
       "      <td>3</td>\n",
       "      <td>Palsson, Master. Gosta Leonard</td>\n",
       "      <td>male</td>\n",
       "      <td>2.0</td>\n",
       "      <td>3</td>\n",
       "      <td>1</td>\n",
       "      <td>349909</td>\n",
       "      <td>21.0750</td>\n",
       "      <td>NaN</td>\n",
       "      <td>S</td>\n",
       "    </tr>\n",
       "    <tr>\n",
       "      <th>8</th>\n",
       "      <td>9</td>\n",
       "      <td>1</td>\n",
       "      <td>3</td>\n",
       "      <td>Johnson, Mrs. Oscar W (Elisabeth Vilhelmina Berg)</td>\n",
       "      <td>female</td>\n",
       "      <td>27.0</td>\n",
       "      <td>0</td>\n",
       "      <td>2</td>\n",
       "      <td>347742</td>\n",
       "      <td>11.1333</td>\n",
       "      <td>NaN</td>\n",
       "      <td>S</td>\n",
       "    </tr>\n",
       "    <tr>\n",
       "      <th>9</th>\n",
       "      <td>10</td>\n",
       "      <td>1</td>\n",
       "      <td>2</td>\n",
       "      <td>Nasser, Mrs. Nicholas (Adele Achem)</td>\n",
       "      <td>female</td>\n",
       "      <td>14.0</td>\n",
       "      <td>1</td>\n",
       "      <td>0</td>\n",
       "      <td>237736</td>\n",
       "      <td>30.0708</td>\n",
       "      <td>NaN</td>\n",
       "      <td>C</td>\n",
       "    </tr>\n",
       "  </tbody>\n",
       "</table>\n",
       "</div>"
      ],
      "text/plain": [
       "   PassengerId  Survived  Pclass  \\\n",
       "0            1         0       3   \n",
       "1            2         1       1   \n",
       "2            3         1       3   \n",
       "3            4         1       1   \n",
       "4            5         0       3   \n",
       "5            6         0       3   \n",
       "6            7         0       1   \n",
       "7            8         0       3   \n",
       "8            9         1       3   \n",
       "9           10         1       2   \n",
       "\n",
       "                                                Name     Sex   Age  SibSp  \\\n",
       "0                            Braund, Mr. Owen Harris    male  22.0      1   \n",
       "1  Cumings, Mrs. John Bradley (Florence Briggs Th...  female  38.0      1   \n",
       "2                             Heikkinen, Miss. Laina  female  26.0      0   \n",
       "3       Futrelle, Mrs. Jacques Heath (Lily May Peel)  female  35.0      1   \n",
       "4                           Allen, Mr. William Henry    male  35.0      0   \n",
       "5                                   Moran, Mr. James    male   NaN      0   \n",
       "6                            McCarthy, Mr. Timothy J    male  54.0      0   \n",
       "7                     Palsson, Master. Gosta Leonard    male   2.0      3   \n",
       "8  Johnson, Mrs. Oscar W (Elisabeth Vilhelmina Berg)  female  27.0      0   \n",
       "9                Nasser, Mrs. Nicholas (Adele Achem)  female  14.0      1   \n",
       "\n",
       "   Parch            Ticket     Fare Cabin Embarked  \n",
       "0      0         A/5 21171   7.2500   NaN        S  \n",
       "1      0          PC 17599  71.2833   C85        C  \n",
       "2      0  STON/O2. 3101282   7.9250   NaN        S  \n",
       "3      0            113803  53.1000  C123        S  \n",
       "4      0            373450   8.0500   NaN        S  \n",
       "5      0            330877   8.4583   NaN        Q  \n",
       "6      0             17463  51.8625   E46        S  \n",
       "7      1            349909  21.0750   NaN        S  \n",
       "8      2            347742  11.1333   NaN        S  \n",
       "9      0            237736  30.0708   NaN        C  "
      ]
     },
     "execution_count": 4,
     "metadata": {},
     "output_type": "execute_result"
    }
   ],
   "source": [
    "data.head(10)"
   ]
  },
  {
   "cell_type": "code",
   "execution_count": 5,
   "metadata": {
    "collapsed": true
   },
   "outputs": [],
   "source": [
    "data.drop(['PassengerId', 'Ticket'], axis=1, inplace=True)"
   ]
  },
  {
   "cell_type": "markdown",
   "metadata": {},
   "source": [
    "# Exploratory data analysis"
   ]
  },
  {
   "cell_type": "code",
   "execution_count": 6,
   "metadata": {
    "collapsed": true
   },
   "outputs": [],
   "source": [
    "sns.set_style()"
   ]
  },
  {
   "cell_type": "code",
   "execution_count": 7,
   "metadata": {
    "scrolled": false
   },
   "outputs": [
    {
     "data": {
      "image/png": "[encoded data removed]",
      "text/plain": [
       "<Figure size 864x720 with 4 Axes>"
      ]
     },
     "metadata": {},
     "output_type": "display_data"
    }
   ],
   "source": [
    "fig, axes = plt.subplots(nrows = 2, ncols = 2)\n",
    "fig.set_figheight(10)\n",
    "fig.set_figwidth(12)\n",
    "\n",
    "survive_group = data.groupby(('Survived'))[['Survived']].count()\n",
    "survive_group.rename(columns={'Survived': 'count'}, inplace=True)\n",
    "\n",
    "surv_ax = survive_group.unstack().plot.bar(ax=axes[0,0], title='Survival ratio')\n",
    "surv_ax.set_xlabel('Survival status')\n",
    "surv_ax.set_xticklabels(['not-survived', 'survived'])\n",
    "\n",
    "gb_group = data.groupby(('Sex'))[['Sex']].count()\n",
    "gb_group.rename(columns={'Sex': 'count'}, inplace=True)\n",
    "\n",
    "sex_ax = gb_group.unstack().plot.bar(ax=axes[0,1], title='Sex ratio')\n",
    "sex_ax.set_xlabel('Sex')\n",
    "sex_ax.set_xticklabels(['female', 'male'])\n",
    "\n",
    "class_group = data.groupby(('Pclass'))[['Pclass']].count()\n",
    "class_group.columns = ['count']\n",
    "\n",
    "class_ax = class_group.unstack().plot.bar(ax=axes[1,0], title='Class ratio')\n",
    "class_ax.set_xlabel('Pclass')\n",
    "class_ax.set_xticklabels(['1','2','3'])\n",
    "\n",
    "embark_group = data.groupby(('Embarked'))[['Embarked']].count()\n",
    "embark_group.columns = ['count']\n",
    "\n",
    "embark_ax = embark_group.unstack().plot.bar(ax=axes[1,1], title='Embark location ratio')\n",
    "embark_ax.set_xlabel('Embark location')\n",
    "embark_ax.set_xticklabels(['C','Q','S'])\n",
    "\n",
    "plt.tight_layout()\n",
    "plt.show()"
   ]
  },
  {
   "cell_type": "code",
   "execution_count": 8,
   "metadata": {},
   "outputs": [
    {
     "data": {
      "image/png": "[encoded data removed]",
      "text/plain": [
       "<Figure size 1152x432 with 3 Axes>"
      ]
     },
     "metadata": {},
     "output_type": "display_data"
    }
   ],
   "source": [
    "fig, axes = plt.subplots(nrows = 1, ncols = 3)\n",
    "fig.set_figheight(6)\n",
    "fig.set_figwidth(16)\n",
    "\n",
    "sns.barplot(x='Sex', y='Survived', data=data, ax=axes[0])\n",
    "\n",
    "sns.barplot(x='Pclass', y='Survived', data=data, ax=axes[1])\n",
    "\n",
    "sns.barplot(x='Embarked', y='Survived', data=data, ax=axes[2])\n",
    "\n",
    "plt.show()"
   ]
  },
  {
   "cell_type": "markdown",
   "metadata": {},
   "source": [
    "Sex perceivably is a strong indicator of survival rate compared to other variables."
   ]
  },
  {
   "cell_type": "code",
   "execution_count": 9,
   "metadata": {},
   "outputs": [
    {
     "data": {
      "image/png": "[encoded data removed]",
      "text/plain": [
       "<Figure size 1152x432 with 2 Axes>"
      ]
     },
     "metadata": {},
     "output_type": "display_data"
    }
   ],
   "source": [
    "fig, axes = plt.subplots(nrows=1, ncols=2)\n",
    "fig.set_figheight(6)\n",
    "fig.set_figwidth(16)\n",
    "\n",
    "sns.violinplot(x='Survived', y='Age', data=data, ax=axes[0])\n",
    "\n",
    "sns.violinplot(x='Survived', y='Fare', data=data, ax=axes[1])\n",
    "\n",
    "plt.show()"
   ]
  },
  {
   "cell_type": "markdown",
   "metadata": {},
   "source": [
    "From the left violinplot, there's a somewhat dense distribution of the survived population at the age lower than 18, which means that children (age < ~18) have a good chance to survive.\n",
    "\n",
    "On the other hand, from the right violinplot, there's high density of the non-survived population around low ticket fares, which indicates high probability of not surviving when a person has a low ticket fare."
   ]
  },
  {
   "cell_type": "code",
   "execution_count": 10,
   "metadata": {},
   "outputs": [
    {
     "data": {
      "image/png": "[encoded data removed]",
      "text/plain": [
       "<Figure size 1152x360 with 1 Axes>"
      ]
     },
     "metadata": {},
     "output_type": "display_data"
    }
   ],
   "source": [
    "fig = plt.figure()\n",
    "fig.set_figheight(5)\n",
    "fig.set_figwidth(16)\n",
    "\n",
    "sns.violinplot(x='Embarked', y='Fare', hue='Pclass', data=data)\n",
    "plt.title('Violinplot showing relationships between embark location, Pclass, and fare')\n",
    "\n",
    "plt.show()"
   ]
  },
  {
   "cell_type": "markdown",
   "metadata": {},
   "source": [
    "Visualizing the relationships between the variables Pclass, embark location, and fare. And Pclass seems to strongly influence the value of fare. Therefore, we will fill the missing values of fare feature based on their Pclass values."
   ]
  },
  {
   "cell_type": "markdown",
   "metadata": {},
   "source": [
    "Another hypothesis that might help us determine the survival rate of each person is that big families may take longer to gather their family members. So, they have lower probability of surviving. As a result we will construct another feature called FamilySize computed by combining the sibling/spouse and parents/children columns together added by 1."
   ]
  },
  {
   "cell_type": "code",
   "execution_count": 11,
   "metadata": {
    "collapsed": true
   },
   "outputs": [],
   "source": [
    "data['FamilySize'] = data['SibSp'] + data['Parch'] + 1"
   ]
  },
  {
   "cell_type": "code",
   "execution_count": 12,
   "metadata": {},
   "outputs": [
    {
     "data": {
      "image/png": "[encoded data removed]",
      "text/plain": [
       "<Figure size 576x576 with 1 Axes>"
      ]
     },
     "metadata": {},
     "output_type": "display_data"
    }
   ],
   "source": [
    "sns.factorplot(x = \"FamilySize\", y = \"Survived\", data = data, size = 8)\n",
    "plt.title(\"Factorplot of FamilySize against Survived\", fontsize = 16)\n",
    "plt.subplots_adjust(top=0.85)\n",
    "plt.show()"
   ]
  },
  {
   "cell_type": "markdown",
   "metadata": {},
   "source": [
    "As we can see, people have higher probability of surviving when the family size is 2-4. We will categorize this range as a 'small' family size. The family size of 1 indicates that the person is alone. And we will categorize the family size that's bigger than 4 as a 'big' family."
   ]
  },
  {
   "cell_type": "code",
   "execution_count": 13,
   "metadata": {},
   "outputs": [
    {
     "data": {
      "image/png": "[encoded data removed]",
      "text/plain": [
       "<Figure size 432x288 with 1 Axes>"
      ]
     },
     "metadata": {},
     "output_type": "display_data"
    }
   ],
   "source": [
    "sns.kdeplot(data['Fare'])\n",
    "plt.xlabel('Fare')\n",
    "plt.show()"
   ]
  },
  {
   "cell_type": "markdown",
   "metadata": {},
   "source": [
    "The distribution of ticket fare is left-skewed because of outliers. We will transform the data, so it's easier to visualize its relationships with other variables. And because the ticket fare variable shows the total fare of each group, we will divide its value with FamilySize feature to get the individual fare."
   ]
  },
  {
   "cell_type": "code",
   "execution_count": 14,
   "metadata": {
    "collapsed": true
   },
   "outputs": [],
   "source": [
    "data['transformed_fare'] = np.log(data['Fare'].divide(data['FamilySize']))\n",
    "data['transformed_fare'].replace([-np.inf], 0, inplace=True)"
   ]
  },
  {
   "cell_type": "code",
   "execution_count": 15,
   "metadata": {},
   "outputs": [
    {
     "data": {
      "image/png": "[encoded data removed]",
      "text/plain": [
       "<Figure size 432x288 with 1 Axes>"
      ]
     },
     "metadata": {},
     "output_type": "display_data"
    }
   ],
   "source": [
    "sns.kdeplot(data=data[data['Survived'] == 0]['transformed_fare'])\n",
    "sns.kdeplot(data=data[data['Survived'] == 1]['transformed_fare'])\n",
    "plt.xlabel('transformed fare')\n",
    "plt.legend(['Not survived', 'Survived'])\n",
    "plt.show()"
   ]
  },
  {
   "cell_type": "markdown",
   "metadata": {},
   "source": [
    "The distribution of ticket fare after being transformed."
   ]
  },
  {
   "cell_type": "code",
   "execution_count": 16,
   "metadata": {},
   "outputs": [
    {
     "data": {
      "image/png": "[encoded data removed]",
      "text/plain": [
       "<Figure size 1008x432 with 2 Axes>"
      ]
     },
     "metadata": {},
     "output_type": "display_data"
    }
   ],
   "source": [
    "fig, axes = plt.subplots(nrows=1, ncols=2)\n",
    "fig.set_figheight(6)\n",
    "fig.set_figwidth(14)\n",
    "\n",
    "data[np.logical_and(data['Sex'] == 'male', \n",
    "                    data['Survived'] == 0)].plot.scatter(x='transformed_fare', y='Age', color='red', title='male scatter',\n",
    "                                                         label='not-survived', ax=axes[0])\n",
    "data[np.logical_and(data['Sex'] == 'male', \n",
    "                    data['Survived'] == 1)].plot.scatter(x='transformed_fare', y='Age', color='green',\n",
    "                                                         label='survived', ax=axes[0])\n",
    "\n",
    "data[np.logical_and(data['Sex'] == 'female', \n",
    "                    data['Survived'] == 0)].plot.scatter(x='transformed_fare', y='Age', color='red', title='female scatter',\n",
    "                                                         label='not-survived', ax=axes[1])\n",
    "data[np.logical_and(data['Sex'] == 'female', \n",
    "                    data['Survived'] == 1)].plot.scatter(x='transformed_fare', y='Age', color='green',\n",
    "                                                         label='survived', ax=axes[1])\n",
    "\n",
    "plt.show()"
   ]
  },
  {
   "cell_type": "markdown",
   "metadata": {},
   "source": [
    "While the male scatter plot shows a less clear relationship between ticket fare and survival rate, the female scatter plot demonstrates that people with higher ticket fare has a better chance of surviving."
   ]
  },
  {
   "cell_type": "code",
   "execution_count": 17,
   "metadata": {},
   "outputs": [
    {
     "name": "stdout",
     "output_type": "stream",
     "text": [
      "          Survived    Pclass       Age      Fare     SibSp     Parch\n",
      "Survived  1.000000 -0.338481 -0.077221  0.257307 -0.035322  0.081629\n",
      "Pclass   -0.338481  1.000000 -0.369226 -0.549500  0.083081  0.018443\n",
      "Age      -0.077221 -0.369226  1.000000  0.096067 -0.308247 -0.189119\n",
      "Fare      0.257307 -0.549500  0.096067  1.000000  0.159651  0.216225\n",
      "SibSp    -0.035322  0.083081 -0.308247  0.159651  1.000000  0.414838\n",
      "Parch     0.081629  0.018443 -0.189119  0.216225  0.414838  1.000000\n"
     ]
    },
    {
     "data": {
      "image/png": "[encoded data removed]",
      "text/plain": [
       "<Figure size 432x288 with 2 Axes>"
      ]
     },
     "metadata": {},
     "output_type": "display_data"
    }
   ],
   "source": [
    "corr_labels = ['Survived', 'Pclass', 'Age', 'Fare', 'SibSp', 'Parch']\n",
    "corrs = data.loc[:,corr_labels].corr()\n",
    "print(corrs)\n",
    "\n",
    "fig = plt.figure()\n",
    "ax = fig.add_subplot(111)\n",
    "\n",
    "cax = ax.matshow(corrs, cmap='winter')\n",
    "fig.colorbar(cax)\n",
    "ticks = np.arange(0,6,1)\n",
    "ax.set_xticks(ticks)\n",
    "ax.set_yticks(ticks)\n",
    "ax.set_xticklabels(corr_labels, rotation=90)\n",
    "ax.set_yticklabels(corr_labels)\n",
    "plt.show()"
   ]
  },
  {
   "cell_type": "markdown",
   "metadata": {},
   "source": [
    "Age variable shows a certain level of correlation with Pclass, SibSp, and Parch variables. Therefore, we'll use these variables as features to train a regressor model to fill the missing values in the age column."
   ]
  },
  {
   "cell_type": "markdown",
   "metadata": {},
   "source": [
    "Next we will explore the feature Cabin that indicates the cabin number of a passenger. There are many missing values in this column. So, we will fill the missing value with 'N' and extract the first character of each cabin number that indicate the cabin sector. Then we will categorize data into 2 groups consisting of ones that have cabins (have cabin numbers) and the ones that don't (cabin numbers are null) and label the feature as 'HasCabin.'"
   ]
  },
  {
   "cell_type": "code",
   "execution_count": 18,
   "metadata": {
    "collapsed": true
   },
   "outputs": [],
   "source": [
    "data['Cabin'].fillna(value='N', inplace=True)\n",
    "data['Cabin'] = data['Cabin'].str[0]"
   ]
  },
  {
   "cell_type": "code",
   "execution_count": 19,
   "metadata": {
    "collapsed": true
   },
   "outputs": [],
   "source": [
    "cabsur_group = data.groupby(('Survived', 'Cabin'))[['Cabin']].count()\n",
    "#cabin_map = {cabin: i for i, cabin in enumerate(data['Cabin'].value_counts().keys())}\n",
    "#print(cabin_map)"
   ]
  },
  {
   "cell_type": "code",
   "execution_count": 20,
   "metadata": {
    "collapsed": true
   },
   "outputs": [],
   "source": [
    "data['HasCabin'] = data['Cabin'].map(lambda x: 'Y' if x != 'N' else 'N')"
   ]
  },
  {
   "cell_type": "code",
   "execution_count": 21,
   "metadata": {},
   "outputs": [
    {
     "data": {
      "image/png": "[encoded data removed]",
      "text/plain": [
       "<Figure size 432x288 with 1 Axes>"
      ]
     },
     "metadata": {},
     "output_type": "display_data"
    }
   ],
   "source": [
    "sns.barplot(x='HasCabin', y='Survived', data=data)\n",
    "\n",
    "plt.show()"
   ]
  },
  {
   "cell_type": "markdown",
   "metadata": {},
   "source": [
    "It seems that HasCabin feature could help inform us the survival rate of a passenger. Thus, we will feed this feature into our machine learning model as well."
   ]
  },
  {
   "cell_type": "markdown",
   "metadata": {},
   "source": [
    "## Feature engineering training"
   ]
  },
  {
   "cell_type": "code",
   "execution_count": 22,
   "metadata": {
    "collapsed": true
   },
   "outputs": [],
   "source": [
    "def categorize_family(fam_size):\n",
    "    category = ''\n",
    "    if fam_size == 1:\n",
    "        category = 'alone'\n",
    "    elif fam_size <= 4:\n",
    "        category = 'small'\n",
    "    else:\n",
    "        category = 'big'\n",
    "    return category\n",
    "\n",
    "def categorize_fare(log_fare):\n",
    "    category = ''\n",
    "    if log_fare <= 1.5:\n",
    "        category = 'low'\n",
    "    elif log_fare <= 3:\n",
    "        category = 'average'\n",
    "    elif log_fare <= 4:\n",
    "        category = 'high'\n",
    "    else:\n",
    "        category = 'very high'\n",
    "    return category"
   ]
  },
  {
   "cell_type": "code",
   "execution_count": 23,
   "metadata": {
    "collapsed": true
   },
   "outputs": [],
   "source": [
    "train_target = data['Survived']\n",
    "\n",
    "data['FamilyType'] = data['FamilySize'].map(categorize_family)\n",
    "data['FareRange'] = data['transformed_fare'].map(categorize_fare)"
   ]
  },
  {
   "cell_type": "code",
   "execution_count": 24,
   "metadata": {},
   "outputs": [
    {
     "name": "stdout",
     "output_type": "stream",
     "text": [
      "Pclass\n",
      "1    60.2875\n",
      "2    14.2500\n",
      "3     8.0500\n",
      "Name: Fare, dtype: float64\n"
     ]
    }
   ],
   "source": [
    "fare_medians = data.groupby(('Pclass'))['Fare'].median()\n",
    "print(fare_medians)"
   ]
  },
  {
   "cell_type": "markdown",
   "metadata": {},
   "source": [
    "### Train a regression model to fill missing age values"
   ]
  },
  {
   "cell_type": "code",
   "execution_count": 25,
   "metadata": {},
   "outputs": [
    {
     "name": "stdout",
     "output_type": "stream",
     "text": [
      "      Age\n",
      "830  15.0\n",
      "565  24.0\n",
      "148  36.5\n",
      "105  28.0\n",
      "289  22.0\n",
      "     Pclass  transformed_fare  SibSp  Parch\n",
      "830       3          1.977838      1      0\n",
      "565       3          2.085672      2      0\n",
      "148       2          2.159484      0      2\n",
      "105       3          2.066331      0      0\n",
      "289       3          2.047693      0      0\n"
     ]
    }
   ],
   "source": [
    "# data splitting\n",
    "age_features = data[np.logical_not(data['Age'].isnull())][['Age', 'Pclass', 'transformed_fare', 'SibSp', 'Parch']]\n",
    "age_labels = age_features[['Age']]\n",
    "age_features = age_features.iloc[:,1:]\n",
    "\n",
    "x_age_train, x_age_test, y_age_train, y_age_test = train_test_split(age_features, age_labels, test_size=0.2,\n",
    "                                                                    random_state=1)\n",
    "\n",
    "print(y_age_train.head())\n",
    "print(x_age_train.head())"
   ]
  },
  {
   "cell_type": "code",
   "execution_count": 26,
   "metadata": {
    "scrolled": true
   },
   "outputs": [
    {
     "data": {
      "text/plain": [
       "GridSearchCV(cv=5, error_score='raise',\n",
       "       estimator=RandomForestRegressor(bootstrap=True, criterion='mse', max_depth=None,\n",
       "           max_features='auto', max_leaf_nodes=None,\n",
       "           min_impurity_decrease=0.0, min_impurity_split=None,\n",
       "           min_samples_leaf=1, min_samples_split=2,\n",
       "           min_weight_fraction_leaf=0.0, n_estimators=10, n_jobs=1,\n",
       "           oob_score=False, random_state=None, verbose=False,\n",
       "           warm_start=False),\n",
       "       fit_params=None, iid=True, n_jobs=1,\n",
       "       param_grid={'max_depth': array([2, 3, 4]), 'n_estimators': array([ 10,  20,  30,  40,  50,  60,  70,  80,  90, 100])},\n",
       "       pre_dispatch='2*n_jobs', refit=True, return_train_score=True,\n",
       "       scoring='neg_mean_squared_error', verbose=0)"
      ]
     },
     "execution_count": 26,
     "metadata": {},
     "output_type": "execute_result"
    }
   ],
   "source": [
    "# Initializing a gradient boosting model with GridSearchCV to tune the hyperparameters\n",
    "param_grid = {'max_depth': np.arange(2,5), 'n_estimators': np.arange(10, 101, 10)}\n",
    "age_regressor = ensemble.RandomForestRegressor(verbose=False)\n",
    "age_gm = GridSearchCV(age_regressor, param_grid, cv=5, scoring='neg_mean_squared_error')\n",
    "age_gm.fit(x_age_train, np.array(y_age_train).ravel())"
   ]
  },
  {
   "cell_type": "code",
   "execution_count": 27,
   "metadata": {
    "scrolled": true
   },
   "outputs": [
    {
     "name": "stdout",
     "output_type": "stream",
     "text": [
      "{'max_depth': 4, 'n_estimators': 10}\n",
      "-152.233115165579\n"
     ]
    }
   ],
   "source": [
    "print(age_gm.best_params_)\n",
    "print(age_gm.best_score_)"
   ]
  },
  {
   "cell_type": "code",
   "execution_count": 28,
   "metadata": {},
   "outputs": [
    {
     "name": "stdout",
     "output_type": "stream",
     "text": [
      "0.26012143090095363\n",
      "153.97079458804797\n"
     ]
    }
   ],
   "source": [
    "y_age_pred = age_gm.predict(x_age_test)\n",
    "print(metrics.r2_score(y_age_test, y_age_pred))\n",
    "print(metrics.mean_squared_error(y_age_test, y_age_pred))"
   ]
  },
  {
   "cell_type": "code",
   "execution_count": 29,
   "metadata": {
    "collapsed": true
   },
   "outputs": [],
   "source": [
    "def fill_value_by_ml(row, target_col, feature_cols, model):\n",
    "    features = row[feature_cols]\n",
    "    if np.isnan(row[target_col]):\n",
    "        return float(model.predict([features]))\n",
    "    else:\n",
    "        return row[target_col]\n",
    "\n",
    "def categorize_age(age):\n",
    "    category = ''\n",
    "    if age <= 1:\n",
    "        category = 'infant'\n",
    "    elif age <= 4:\n",
    "        category = 'toddler'\n",
    "    elif age <= 13:\n",
    "        category = 'child'\n",
    "    elif age <= 18:\n",
    "        category = 'teenager'\n",
    "    elif age <= 35:\n",
    "        category = 'young adult'\n",
    "    elif age <= 45:\n",
    "        category = 'adult'\n",
    "    elif age <= 55:\n",
    "        category = 'middle aged'\n",
    "    elif age <= 65:\n",
    "        category = 'senior citizen'\n",
    "    else:\n",
    "        category = 'old'\n",
    "    return category"
   ]
  },
  {
   "cell_type": "code",
   "execution_count": 30,
   "metadata": {},
   "outputs": [
    {
     "name": "stdout",
     "output_type": "stream",
     "text": [
      "[26.36231537]\n",
      "22.0\n"
     ]
    }
   ],
   "source": [
    "print(age_gm.predict([data.loc[0, ['Pclass', 'transformed_fare', 'SibSp', 'Parch']]]))\n",
    "print(data.loc[0, 'Age'])"
   ]
  },
  {
   "cell_type": "code",
   "execution_count": 31,
   "metadata": {
    "collapsed": true
   },
   "outputs": [],
   "source": [
    "data['Age'] = data.apply(fill_value_by_ml, axis=1, target_col='Age',\n",
    "                         feature_cols=['Pclass', 'transformed_fare', 'SibSp', 'Parch'], model=age_gm)"
   ]
  },
  {
   "cell_type": "code",
   "execution_count": 32,
   "metadata": {
    "collapsed": true
   },
   "outputs": [],
   "source": [
    "data['AgeClass'] = data['Age'].map(categorize_age)"
   ]
  },
  {
   "cell_type": "code",
   "execution_count": 33,
   "metadata": {
    "collapsed": true
   },
   "outputs": [],
   "source": [
    "cat_labels = ['Sex', 'Embarked', 'FamilyType', 'HasCabin', 'Pclass', 'AgeClass', 'FareRange']\n",
    "train_data = pd.get_dummies(data, columns=cat_labels)\n",
    "\n",
    "drop_labels = ['Survived', 'Name', 'SibSp', 'Parch', 'Cabin', 'Age', 'FamilySize', 'Fare', 'transformed_fare']\n",
    "train_data.drop(columns=drop_labels, inplace=True)"
   ]
  },
  {
   "cell_type": "markdown",
   "metadata": {},
   "source": [
    "## Training models"
   ]
  },
  {
   "cell_type": "code",
   "execution_count": 34,
   "metadata": {
    "collapsed": true
   },
   "outputs": [],
   "source": [
    "k_fold = 4\n",
    "test_size = 1/k_fold"
   ]
  },
  {
   "cell_type": "markdown",
   "metadata": {},
   "source": [
    "## Neural networks"
   ]
  },
  {
   "cell_type": "code",
   "execution_count": 35,
   "metadata": {
    "collapsed": true
   },
   "outputs": [],
   "source": [
    "# Experimental parameters\n",
    "layer_nums = np.arange(2,4)\n",
    "unit_nums = np.arange(3,11)\n",
    "param_grid = {'hidden_layer_sizes': list(itertools.product(layer_nums, unit_nums))}"
   ]
  },
  {
   "cell_type": "code",
   "execution_count": 36,
   "metadata": {},
   "outputs": [
    {
     "data": {
      "text/plain": [
       "GridSearchCV(cv=4, error_score='raise',\n",
       "       estimator=MLPClassifier(activation='relu', alpha=0.0001, batch_size='auto', beta_1=0.9,\n",
       "       beta_2=0.999, early_stopping=False, epsilon=1e-08,\n",
       "       hidden_layer_sizes=(100,), learning_rate='constant',\n",
       "       learning_rate_init=0.001, max_iter=500, momentum=0.9,\n",
       "       nesterovs_momentum=True, power_t=0.5, random_state=None,\n",
       "       shuffle=True, solver='adam', tol=0.0001, validation_fraction=0.1,\n",
       "       verbose=False, warm_start=False),\n",
       "       fit_params=None, iid=True, n_jobs=-1,\n",
       "       param_grid={'hidden_layer_sizes': [(2, 3), (2, 4), (2, 5), (2, 6), (2, 7), (2, 8), (2, 9), (2, 10), (3, 3), (3, 4), (3, 5), (3, 6), (3, 7), (3, 8), (3, 9), (3, 10)]},\n",
       "       pre_dispatch='2*n_jobs', refit=True, return_train_score=True,\n",
       "       scoring='accuracy', verbose=0)"
      ]
     },
     "execution_count": 36,
     "metadata": {},
     "output_type": "execute_result"
    }
   ],
   "source": [
    "ann = neural_network.MLPClassifier(max_iter=500)\n",
    "\n",
    "ann_gm = GridSearchCV(ann, param_grid, cv=k_fold, scoring='accuracy', n_jobs=-1)\n",
    "ann_gm.fit(train_data, train_target)"
   ]
  },
  {
   "cell_type": "code",
   "execution_count": 37,
   "metadata": {},
   "outputs": [
    {
     "name": "stdout",
     "output_type": "stream",
     "text": [
      "{'hidden_layer_sizes': (2, 3)}\n",
      "0.813692480359147\n"
     ]
    }
   ],
   "source": [
    "print(ann_gm.best_params_)\n",
    "print(ann_gm.best_score_)"
   ]
  },
  {
   "cell_type": "markdown",
   "metadata": {},
   "source": [
    "## Random Forest"
   ]
  },
  {
   "cell_type": "code",
   "execution_count": 38,
   "metadata": {
    "collapsed": true
   },
   "outputs": [],
   "source": [
    "# Experimental parameters\n",
    "depths = np.arange(5,15)\n",
    "n_estimators = np.arange(10, 271, 30)\n",
    "\n",
    "param_grid = dict(max_depth=depths, n_estimators=n_estimators)"
   ]
  },
  {
   "cell_type": "code",
   "execution_count": 39,
   "metadata": {},
   "outputs": [
    {
     "data": {
      "text/plain": [
       "GridSearchCV(cv=4, error_score='raise',\n",
       "       estimator=RandomForestClassifier(bootstrap=True, class_weight=None, criterion='gini',\n",
       "            max_depth=None, max_features='auto', max_leaf_nodes=None,\n",
       "            min_impurity_decrease=0.0, min_impurity_split=None,\n",
       "            min_samples_leaf=1, min_samples_split=2,\n",
       "            min_weight_fraction_leaf=0.0, n_estimators=10, n_jobs=1,\n",
       "            oob_score=False, random_state=None, verbose=0,\n",
       "            warm_start=False),\n",
       "       fit_params=None, iid=True, n_jobs=-1,\n",
       "       param_grid={'max_depth': array([ 5,  6,  7,  8,  9, 10, 11, 12, 13, 14]), 'n_estimators': array([ 10,  40,  70, 100, 130, 160, 190, 220, 250])},\n",
       "       pre_dispatch='2*n_jobs', refit=True, return_train_score=True,\n",
       "       scoring='accuracy', verbose=0)"
      ]
     },
     "execution_count": 39,
     "metadata": {},
     "output_type": "execute_result"
    }
   ],
   "source": [
    "rand_forest = ensemble.RandomForestClassifier()\n",
    "\n",
    "forest_gm = GridSearchCV(rand_forest, param_grid, cv=k_fold, scoring='accuracy', n_jobs=-1)\n",
    "forest_gm.fit(train_data, train_target)"
   ]
  },
  {
   "cell_type": "code",
   "execution_count": 40,
   "metadata": {},
   "outputs": [
    {
     "name": "stdout",
     "output_type": "stream",
     "text": [
      "{'max_depth': 10, 'n_estimators': 10}\n",
      "0.8058361391694725\n"
     ]
    }
   ],
   "source": [
    "print(forest_gm.best_params_)\n",
    "print(forest_gm.best_score_)"
   ]
  },
  {
   "cell_type": "markdown",
   "metadata": {},
   "source": [
    "## XGBoost"
   ]
  },
  {
   "cell_type": "code",
   "execution_count": 41,
   "metadata": {
    "collapsed": true
   },
   "outputs": [],
   "source": [
    "# Experimental parameters\n",
    "depths = np.arange(3,8)\n",
    "n_estimators = np.arange(150, 401, 50)\n",
    "\n",
    "param_grid = dict(max_depth=depths, n_estimators=n_estimators)"
   ]
  },
  {
   "cell_type": "code",
   "execution_count": 42,
   "metadata": {},
   "outputs": [
    {
     "data": {
      "text/plain": [
       "GridSearchCV(cv=4, error_score='raise',\n",
       "       estimator=XGBClassifier(base_score=0.5, booster='gbtree', colsample_bylevel=1,\n",
       "       colsample_bytree=1, gamma=0, learning_rate=0.1, max_delta_step=0,\n",
       "       max_depth=3, min_child_weight=1, missing=None, n_estimators=100,\n",
       "       n_jobs=1, nthread=None, objective='binary:logistic', random_state=0,\n",
       "       reg_alpha=0, reg_lambda=1, scale_pos_weight=1, seed=None,\n",
       "       silent=True, subsample=1),\n",
       "       fit_params=None, iid=True, n_jobs=-1,\n",
       "       param_grid={'max_depth': array([3, 4, 5, 6, 7]), 'n_estimators': array([150, 200, 250, 300, 350, 400])},\n",
       "       pre_dispatch='2*n_jobs', refit=True, return_train_score=True,\n",
       "       scoring='accuracy', verbose=False)"
      ]
     },
     "execution_count": 42,
     "metadata": {},
     "output_type": "execute_result"
    }
   ],
   "source": [
    "xboost = xgb.XGBClassifier()\n",
    "\n",
    "xgb_gm = GridSearchCV(xboost, param_grid, cv=k_fold, scoring='accuracy', n_jobs=-1, verbose=False)\n",
    "xgb_gm.fit(train_data, train_target, verbose=False)"
   ]
  },
  {
   "cell_type": "code",
   "execution_count": 43,
   "metadata": {},
   "outputs": [
    {
     "name": "stdout",
     "output_type": "stream",
     "text": [
      "{'max_depth': 4, 'n_estimators': 200}\n",
      "0.8159371492704826\n"
     ]
    }
   ],
   "source": [
    "print(xgb_gm.best_params_)\n",
    "print(xgb_gm.best_score_)"
   ]
  },
  {
   "cell_type": "markdown",
   "metadata": {},
   "source": [
    "# Test"
   ]
  },
  {
   "cell_type": "code",
   "execution_count": 44,
   "metadata": {
    "collapsed": true
   },
   "outputs": [],
   "source": [
    "test_df = pd.read_csv('test.csv')"
   ]
  },
  {
   "cell_type": "code",
   "execution_count": 46,
   "metadata": {},
   "outputs": [
    {
     "name": "stdout",
     "output_type": "stream",
     "text": [
      "<class 'pandas.core.frame.DataFrame'>\n",
      "RangeIndex: 418 entries, 0 to 417\n",
      "Data columns (total 11 columns):\n",
      "PassengerId    418 non-null int64\n",
      "Pclass         418 non-null int64\n",
      "Name           418 non-null object\n",
      "Sex            418 non-null object\n",
      "Age            332 non-null float64\n",
      "SibSp          418 non-null int64\n",
      "Parch          418 non-null int64\n",
      "Ticket         418 non-null object\n",
      "Fare           417 non-null float64\n",
      "Cabin          91 non-null object\n",
      "Embarked       418 non-null object\n",
      "dtypes: float64(2), int64(4), object(5)\n",
      "memory usage: 36.0+ KB\n",
      "None\n"
     ]
    }
   ],
   "source": [
    "print(test_df.info())"
   ]
  },
  {
   "cell_type": "code",
   "execution_count": 47,
   "metadata": {
    "collapsed": true
   },
   "outputs": [],
   "source": [
    "test_df['FamilySize'] = test_df['SibSp'] + test_df['Parch'] + 1\n",
    "test_df['FamilyType'] = test_df['FamilySize'].map(categorize_family)\n",
    "\n",
    "test_df['Fare'] = test_df.apply(lambda x: x.loc['Fare'] if not np.isnan(x.loc['Fare']) else fare_medians[x.loc['Pclass']],\n",
    "                                axis=1)\n",
    "test_df['transformed_fare'] = np.log(test_df['Fare'].divide(test_df['FamilySize']))\n",
    "test_df['transformed_fare'].replace([-np.inf], 0, inplace=True)\n",
    "test_df['FareRange'] = test_df['transformed_fare'].map(categorize_fare)\n",
    "\n",
    "test_df['Cabin'].fillna(value='N', inplace=True)\n",
    "test_df['Cabin'] = test_df['Cabin'].str[0]\n",
    "test_df['HasCabin'] = test_df['Cabin'].apply(lambda x: 'Y' if x != 'N' else 'N')\n",
    "\n",
    "test_df['Age'] = test_df.apply(fill_value_by_ml, axis=1, target_col='Age',\n",
    "                               feature_cols=['Pclass', 'transformed_fare', 'SibSp', 'Parch'], model=age_gm)\n",
    "test_df['AgeClass'] = test_df['Age'].map(categorize_age)"
   ]
  },
  {
   "cell_type": "code",
   "execution_count": 48,
   "metadata": {
    "collapsed": true
   },
   "outputs": [],
   "source": [
    "test_data = pd.get_dummies(test_df, columns=cat_labels)\n",
    "test_data.drop(columns=['PassengerId', 'Ticket'], inplace=True)\n",
    "test_data.drop(columns=drop_labels[1:], inplace=True)"
   ]
  },
  {
   "cell_type": "code",
   "execution_count": 49,
   "metadata": {},
   "outputs": [
    {
     "name": "stdout",
     "output_type": "stream",
     "text": [
      "<class 'pandas.core.frame.DataFrame'>\n",
      "RangeIndex: 418 entries, 0 to 417\n",
      "Data columns (total 26 columns):\n",
      "Sex_female                 418 non-null uint8\n",
      "Sex_male                   418 non-null uint8\n",
      "Embarked_C                 418 non-null uint8\n",
      "Embarked_Q                 418 non-null uint8\n",
      "Embarked_S                 418 non-null uint8\n",
      "FamilyType_alone           418 non-null uint8\n",
      "FamilyType_big             418 non-null uint8\n",
      "FamilyType_small           418 non-null uint8\n",
      "HasCabin_N                 418 non-null uint8\n",
      "HasCabin_Y                 418 non-null uint8\n",
      "Pclass_1                   418 non-null uint8\n",
      "Pclass_2                   418 non-null uint8\n",
      "Pclass_3                   418 non-null uint8\n",
      "AgeClass_adult             418 non-null uint8\n",
      "AgeClass_child             418 non-null uint8\n",
      "AgeClass_infant            418 non-null uint8\n",
      "AgeClass_middle aged       418 non-null uint8\n",
      "AgeClass_old               418 non-null uint8\n",
      "AgeClass_senior citizen    418 non-null uint8\n",
      "AgeClass_teenager          418 non-null uint8\n",
      "AgeClass_toddler           418 non-null uint8\n",
      "AgeClass_young adult       418 non-null uint8\n",
      "FareRange_average          418 non-null uint8\n",
      "FareRange_high             418 non-null uint8\n",
      "FareRange_low              418 non-null uint8\n",
      "FareRange_very high        418 non-null uint8\n",
      "dtypes: uint8(26)\n",
      "memory usage: 10.7 KB\n",
      "None\n"
     ]
    }
   ],
   "source": [
    "print(test_data.info())"
   ]
  },
  {
   "cell_type": "markdown",
   "metadata": {},
   "source": [
    "## Neural networks"
   ]
  },
  {
   "cell_type": "code",
   "execution_count": 50,
   "metadata": {
    "collapsed": true
   },
   "outputs": [],
   "source": [
    "test_pred = ann_gm.predict(test_data)"
   ]
  },
  {
   "cell_type": "markdown",
   "metadata": {},
   "source": [
    "submission score = 0.77511"
   ]
  },
  {
   "cell_type": "markdown",
   "metadata": {},
   "source": [
    "## Random Forest"
   ]
  },
  {
   "cell_type": "code",
   "execution_count": 52,
   "metadata": {
    "collapsed": true
   },
   "outputs": [],
   "source": [
    "test_pred = forest_gm.predict(test_data)"
   ]
  },
  {
   "cell_type": "markdown",
   "metadata": {},
   "source": [
    "submission score = 0.74162"
   ]
  },
  {
   "cell_type": "markdown",
   "metadata": {},
   "source": [
    "## XGBoost"
   ]
  },
  {
   "cell_type": "code",
   "execution_count": 54,
   "metadata": {
    "collapsed": true
   },
   "outputs": [],
   "source": [
    "test_pred = xgb_gm.predict(test_data)"
   ]
  },
  {
   "cell_type": "markdown",
   "metadata": {},
   "source": [
    "submission score = 0.77033"
   ]
  },
  {
   "cell_type": "markdown",
   "metadata": {},
   "source": [
    "## Saving predictions"
   ]
  },
  {
   "cell_type": "code",
   "execution_count": 55,
   "metadata": {
    "collapsed": true
   },
   "outputs": [],
   "source": [
    "output_df = pd.DataFrame(test_df['PassengerId'])\n",
    "output_df['Survived'] = test_pred\n",
    "output_df.to_csv('titanic_submission.csv', index=False)"
   ]
  },
  {
   "cell_type": "code",
   "execution_count": null,
   "metadata": {
    "collapsed": true
   },
   "outputs": [],
   "source": []
  }
 ],
 "metadata": {
  "kernelspec": {
   "display_name": "Python 3",
   "language": "python",
   "name": "python3"
  },
  "language_info": {
   "codemirror_mode": {
    "name": "ipython",
    "version": 3
   },
   "file_extension": ".py",
   "mimetype": "text/x-python",
   "name": "python",
   "nbconvert_exporter": "python",
   "pygments_lexer": "ipython3",
   "version": "3.6.1"
  }
 },
 "nbformat": 4,
 "nbformat_minor": 2
}
