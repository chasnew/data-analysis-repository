{
 "cells": [
  {
   "cell_type": "code",
   "execution_count": 13,
   "metadata": {
    "collapsed": true
   },
   "outputs": [],
   "source": [
    "import numpy as np\n",
    "import pandas as pd\n",
    "import matplotlib.pyplot as plt\n",
    "from scipy import stats\n",
    "\n",
    "from sklearn import preprocessing\n",
    "from sklearn import svm, metrics, neural_network, linear_model\n",
    "from sklearn import neighbors\n",
    "from sklearn.model_selection import train_test_split"
   ]
  },
  {
   "cell_type": "code",
   "execution_count": 31,
   "metadata": {
    "collapsed": true
   },
   "outputs": [],
   "source": [
    "data = pd.read_csv('train.csv')"
   ]
  },
  {
   "cell_type": "code",
   "execution_count": 3,
   "metadata": {},
   "outputs": [
    {
     "name": "stdout",
     "output_type": "stream",
     "text": [
      "<class 'pandas.core.frame.DataFrame'>\n",
      "RangeIndex: 891 entries, 0 to 890\n",
      "Data columns (total 12 columns):\n",
      "PassengerId    891 non-null int64\n",
      "Survived       891 non-null int64\n",
      "Pclass         891 non-null int64\n",
      "Name           891 non-null object\n",
      "Sex            891 non-null object\n",
      "Age            714 non-null float64\n",
      "SibSp          891 non-null int64\n",
      "Parch          891 non-null int64\n",
      "Ticket         891 non-null object\n",
      "Fare           891 non-null float64\n",
      "Cabin          204 non-null object\n",
      "Embarked       889 non-null object\n",
      "dtypes: float64(2), int64(5), object(5)\n",
      "memory usage: 83.6+ KB\n",
      "None\n"
     ]
    }
   ],
   "source": [
    "print(data.info())"
   ]
  },
  {
   "cell_type": "markdown",
   "metadata": {},
   "source": [
    "## VariableDefinition\n",
    "survival: Survival 0 = No, 1 = Yes \n",
    "\n",
    "pclass: Ticket class 1 = 1st, 2 = 2nd, 3 = 3rd \n",
    "\n",
    "Sex: 'male', 'female'\n",
    "\n",
    "sibsp: # of siblings / spouses aboard the Titanic \n",
    "\n",
    "parch: # of parents / children aboard the Titanic\n",
    "\n",
    "ticket: Ticket number\n",
    "\n",
    "fare: Passenger fare \n",
    "\n",
    "cabin: Cabin number \n",
    "\n",
    "embarked: Port of Embarkation (C = Cherbourg, Q = Queenstown, S = Southampton)\n",
    "\n",
    "### Variable Notes\n",
    "pclass: A proxy for socio-economic status (SES)\n",
    "1st = Upper\n",
    "2nd = Middle\n",
    "3rd = Lower\n",
    "\n",
    "age: Age is fractional if less than 1. If the age is estimated, is it in the form of xx.5\n",
    "\n",
    "sibsp: The dataset defines family relations in this way...\n",
    "Sibling = brother, sister, stepbrother, stepsister\n",
    "Spouse = husband, wife (mistresses and fiancés were ignored)\n",
    "\n",
    "parch: The dataset defines family relations in this way...\n",
    "Parent = mother, father\n",
    "Child = daughter, son, stepdaughter, stepson\n",
    "Some children travelled only with a nanny, therefore parch=0 for them."
   ]
  },
  {
   "cell_type": "code",
   "execution_count": 32,
   "metadata": {},
   "outputs": [
    {
     "data": {
      "text/html": [
       "<div>\n",
       "<style scoped>\n",
       "    .dataframe tbody tr th:only-of-type {\n",
       "        vertical-align: middle;\n",
       "    }\n",
       "\n",
       "    .dataframe tbody tr th {\n",
       "        vertical-align: top;\n",
       "    }\n",
       "\n",
       "    .dataframe thead th {\n",
       "        text-align: right;\n",
       "    }\n",
       "</style>\n",
       "<table border=\"1\" class=\"dataframe\">\n",
       "  <thead>\n",
       "    <tr style=\"text-align: right;\">\n",
       "      <th></th>\n",
       "      <th>PassengerId</th>\n",
       "      <th>Survived</th>\n",
       "      <th>Pclass</th>\n",
       "      <th>Name</th>\n",
       "      <th>Sex</th>\n",
       "      <th>Age</th>\n",
       "      <th>SibSp</th>\n",
       "      <th>Parch</th>\n",
       "      <th>Ticket</th>\n",
       "      <th>Fare</th>\n",
       "      <th>Cabin</th>\n",
       "      <th>Embarked</th>\n",
       "    </tr>\n",
       "  </thead>\n",
       "  <tbody>\n",
       "    <tr>\n",
       "      <th>0</th>\n",
       "      <td>1</td>\n",
       "      <td>0</td>\n",
       "      <td>3</td>\n",
       "      <td>Braund, Mr. Owen Harris</td>\n",
       "      <td>male</td>\n",
       "      <td>22.0</td>\n",
       "      <td>1</td>\n",
       "      <td>0</td>\n",
       "      <td>A/5 21171</td>\n",
       "      <td>7.2500</td>\n",
       "      <td>NaN</td>\n",
       "      <td>S</td>\n",
       "    </tr>\n",
       "    <tr>\n",
       "      <th>1</th>\n",
       "      <td>2</td>\n",
       "      <td>1</td>\n",
       "      <td>1</td>\n",
       "      <td>Cumings, Mrs. John Bradley (Florence Briggs Th...</td>\n",
       "      <td>female</td>\n",
       "      <td>38.0</td>\n",
       "      <td>1</td>\n",
       "      <td>0</td>\n",
       "      <td>PC 17599</td>\n",
       "      <td>71.2833</td>\n",
       "      <td>C85</td>\n",
       "      <td>C</td>\n",
       "    </tr>\n",
       "    <tr>\n",
       "      <th>2</th>\n",
       "      <td>3</td>\n",
       "      <td>1</td>\n",
       "      <td>3</td>\n",
       "      <td>Heikkinen, Miss. Laina</td>\n",
       "      <td>female</td>\n",
       "      <td>26.0</td>\n",
       "      <td>0</td>\n",
       "      <td>0</td>\n",
       "      <td>STON/O2. 3101282</td>\n",
       "      <td>7.9250</td>\n",
       "      <td>NaN</td>\n",
       "      <td>S</td>\n",
       "    </tr>\n",
       "    <tr>\n",
       "      <th>3</th>\n",
       "      <td>4</td>\n",
       "      <td>1</td>\n",
       "      <td>1</td>\n",
       "      <td>Futrelle, Mrs. Jacques Heath (Lily May Peel)</td>\n",
       "      <td>female</td>\n",
       "      <td>35.0</td>\n",
       "      <td>1</td>\n",
       "      <td>0</td>\n",
       "      <td>113803</td>\n",
       "      <td>53.1000</td>\n",
       "      <td>C123</td>\n",
       "      <td>S</td>\n",
       "    </tr>\n",
       "    <tr>\n",
       "      <th>4</th>\n",
       "      <td>5</td>\n",
       "      <td>0</td>\n",
       "      <td>3</td>\n",
       "      <td>Allen, Mr. William Henry</td>\n",
       "      <td>male</td>\n",
       "      <td>35.0</td>\n",
       "      <td>0</td>\n",
       "      <td>0</td>\n",
       "      <td>373450</td>\n",
       "      <td>8.0500</td>\n",
       "      <td>NaN</td>\n",
       "      <td>S</td>\n",
       "    </tr>\n",
       "    <tr>\n",
       "      <th>5</th>\n",
       "      <td>6</td>\n",
       "      <td>0</td>\n",
       "      <td>3</td>\n",
       "      <td>Moran, Mr. James</td>\n",
       "      <td>male</td>\n",
       "      <td>NaN</td>\n",
       "      <td>0</td>\n",
       "      <td>0</td>\n",
       "      <td>330877</td>\n",
       "      <td>8.4583</td>\n",
       "      <td>NaN</td>\n",
       "      <td>Q</td>\n",
       "    </tr>\n",
       "    <tr>\n",
       "      <th>6</th>\n",
       "      <td>7</td>\n",
       "      <td>0</td>\n",
       "      <td>1</td>\n",
       "      <td>McCarthy, Mr. Timothy J</td>\n",
       "      <td>male</td>\n",
       "      <td>54.0</td>\n",
       "      <td>0</td>\n",
       "      <td>0</td>\n",
       "      <td>17463</td>\n",
       "      <td>51.8625</td>\n",
       "      <td>E46</td>\n",
       "      <td>S</td>\n",
       "    </tr>\n",
       "    <tr>\n",
       "      <th>7</th>\n",
       "      <td>8</td>\n",
       "      <td>0</td>\n",
       "      <td>3</td>\n",
       "      <td>Palsson, Master. Gosta Leonard</td>\n",
       "      <td>male</td>\n",
       "      <td>2.0</td>\n",
       "      <td>3</td>\n",
       "      <td>1</td>\n",
       "      <td>349909</td>\n",
       "      <td>21.0750</td>\n",
       "      <td>NaN</td>\n",
       "      <td>S</td>\n",
       "    </tr>\n",
       "    <tr>\n",
       "      <th>8</th>\n",
       "      <td>9</td>\n",
       "      <td>1</td>\n",
       "      <td>3</td>\n",
       "      <td>Johnson, Mrs. Oscar W (Elisabeth Vilhelmina Berg)</td>\n",
       "      <td>female</td>\n",
       "      <td>27.0</td>\n",
       "      <td>0</td>\n",
       "      <td>2</td>\n",
       "      <td>347742</td>\n",
       "      <td>11.1333</td>\n",
       "      <td>NaN</td>\n",
       "      <td>S</td>\n",
       "    </tr>\n",
       "    <tr>\n",
       "      <th>9</th>\n",
       "      <td>10</td>\n",
       "      <td>1</td>\n",
       "      <td>2</td>\n",
       "      <td>Nasser, Mrs. Nicholas (Adele Achem)</td>\n",
       "      <td>female</td>\n",
       "      <td>14.0</td>\n",
       "      <td>1</td>\n",
       "      <td>0</td>\n",
       "      <td>237736</td>\n",
       "      <td>30.0708</td>\n",
       "      <td>NaN</td>\n",
       "      <td>C</td>\n",
       "    </tr>\n",
       "  </tbody>\n",
       "</table>\n",
       "</div>"
      ],
      "text/plain": [
       "   PassengerId  Survived  Pclass  \\\n",
       "0            1         0       3   \n",
       "1            2         1       1   \n",
       "2            3         1       3   \n",
       "3            4         1       1   \n",
       "4            5         0       3   \n",
       "5            6         0       3   \n",
       "6            7         0       1   \n",
       "7            8         0       3   \n",
       "8            9         1       3   \n",
       "9           10         1       2   \n",
       "\n",
       "                                                Name     Sex   Age  SibSp  \\\n",
       "0                            Braund, Mr. Owen Harris    male  22.0      1   \n",
       "1  Cumings, Mrs. John Bradley (Florence Briggs Th...  female  38.0      1   \n",
       "2                             Heikkinen, Miss. Laina  female  26.0      0   \n",
       "3       Futrelle, Mrs. Jacques Heath (Lily May Peel)  female  35.0      1   \n",
       "4                           Allen, Mr. William Henry    male  35.0      0   \n",
       "5                                   Moran, Mr. James    male   NaN      0   \n",
       "6                            McCarthy, Mr. Timothy J    male  54.0      0   \n",
       "7                     Palsson, Master. Gosta Leonard    male   2.0      3   \n",
       "8  Johnson, Mrs. Oscar W (Elisabeth Vilhelmina Berg)  female  27.0      0   \n",
       "9                Nasser, Mrs. Nicholas (Adele Achem)  female  14.0      1   \n",
       "\n",
       "   Parch            Ticket     Fare Cabin Embarked  \n",
       "0      0         A/5 21171   7.2500   NaN        S  \n",
       "1      0          PC 17599  71.2833   C85        C  \n",
       "2      0  STON/O2. 3101282   7.9250   NaN        S  \n",
       "3      0            113803  53.1000  C123        S  \n",
       "4      0            373450   8.0500   NaN        S  \n",
       "5      0            330877   8.4583   NaN        Q  \n",
       "6      0             17463  51.8625   E46        S  \n",
       "7      1            349909  21.0750   NaN        S  \n",
       "8      2            347742  11.1333   NaN        S  \n",
       "9      0            237736  30.0708   NaN        C  "
      ]
     },
     "execution_count": 32,
     "metadata": {},
     "output_type": "execute_result"
    }
   ],
   "source": [
    "data.head(10)"
   ]
  },
  {
   "cell_type": "markdown",
   "metadata": {},
   "source": [
    "## Data visualization"
   ]
  },
  {
   "cell_type": "code",
   "execution_count": 5,
   "metadata": {
    "collapsed": true
   },
   "outputs": [],
   "source": [
    "survive_group = data.groupby(('Survived'))[['Survived']].count()\n",
    "survive_group.rename(columns={'Survived': 'count'}, inplace=True)\n",
    "\n",
    "gb_group = data.groupby(('Sex'))[['Sex']].count()\n",
    "gb_group.rename(columns={'Sex': 'count'}, inplace=True)\n",
    "\n",
    "class_group = data.groupby(('Pclass'))[['Pclass']].count()\n",
    "class_group.columns = ['count']\n",
    "\n",
    "embark_group = data.groupby(('Embarked'))[['Embarked']].count()\n",
    "embark_group.columns = ['count']\n",
    "\n",
    "ss_group = data.groupby(('Survived', 'Sex'))[['Sex']].count()\n",
    "cs_group = data.groupby(('Survived', 'Pclass'))[['Pclass']].count()\n",
    "es_group = data.groupby(('Survived', 'Embarked'))[['Embarked']].count()"
   ]
  },
  {
   "cell_type": "markdown",
   "metadata": {},
   "source": [
    "## Categorical distributions"
   ]
  },
  {
   "cell_type": "code",
   "execution_count": 6,
   "metadata": {},
   "outputs": [
    {
     "name": "stdout",
     "output_type": "stream",
     "text": [
      "          count\n",
      "Survived       \n",
      "0           549\n",
      "1           342\n",
      "        count\n",
      "Sex          \n",
      "female    314\n",
      "male      577\n",
      "        count\n",
      "Pclass       \n",
      "1         216\n",
      "2         184\n",
      "3         491\n",
      "          count\n",
      "Embarked       \n",
      "C           168\n",
      "Q            77\n",
      "S           644\n"
     ]
    }
   ],
   "source": [
    "print(survive_group)\n",
    "print(gb_group)\n",
    "print(class_group)\n",
    "print(embark_group)"
   ]
  },
  {
   "cell_type": "code",
   "execution_count": 7,
   "metadata": {},
   "outputs": [
    {
     "data": {
      "image/png": "[encoded data removed]",
      "text/plain": [
       "<matplotlib.figure.Figure at 0x114df7400>"
      ]
     },
     "metadata": {},
     "output_type": "display_data"
    }
   ],
   "source": [
    "fig, axes = plt.subplots(nrows = 2, ncols = 2)\n",
    "fig.set_figheight(10)\n",
    "fig.set_figwidth(12)\n",
    "\n",
    "surv_ax = survive_group.unstack().plot.bar(ax=axes[0,0], title='Survival ratio')\n",
    "surv_ax.set_xlabel('Survival status')\n",
    "surv_ax.set_xticklabels(['not-survived', 'survived'])\n",
    "\n",
    "sex_ax = gb_group.unstack().plot.bar(ax=axes[0,1], title='Sex ratio')\n",
    "sex_ax.set_xlabel('Sex')\n",
    "sex_ax.set_xticklabels(['female', 'male'])\n",
    "\n",
    "class_ax = class_group.unstack().plot.bar(ax=axes[1,0], title='Class ratio')\n",
    "class_ax.set_xlabel('Pclass')\n",
    "class_ax.set_xticklabels(['1','2','3'])\n",
    "\n",
    "embark_ax = embark_group.unstack().plot.bar(ax=axes[1,1], title='Embark location ratio')\n",
    "embark_ax.set_xlabel('Embark location')\n",
    "embark_ax.set_xticklabels(['C','Q','S'])\n",
    "\n",
    "plt.tight_layout()\n",
    "plt.show()"
   ]
  },
  {
   "cell_type": "markdown",
   "metadata": {},
   "source": [
    "## Numerical distributions"
   ]
  },
  {
   "cell_type": "code",
   "execution_count": 8,
   "metadata": {},
   "outputs": [
    {
     "data": {
      "image/png": "[encoded data removed]",
      "text/plain": [
       "<matplotlib.figure.Figure at 0x115055eb8>"
      ]
     },
     "metadata": {},
     "output_type": "display_data"
    }
   ],
   "source": [
    "fig, axes = plt.subplots(nrows=1, ncols=2)\n",
    "fig.set_figheight(6)\n",
    "fig.set_figwidth(14)\n",
    "\n",
    "data['Age'].plot.hist(ax=axes[0], bins=40)\n",
    "data['Fare'].plot.hist(ax=axes[1], bins=40)\n",
    "plt.tight_layout()\n",
    "plt.show()"
   ]
  },
  {
   "cell_type": "markdown",
   "metadata": {},
   "source": [
    "## Variable relationships"
   ]
  },
  {
   "cell_type": "code",
   "execution_count": 9,
   "metadata": {},
   "outputs": [
    {
     "data": {
      "image/png": "[encoded data removed]",
      "text/plain": [
       "<matplotlib.figure.Figure at 0x115055208>"
      ]
     },
     "metadata": {},
     "output_type": "display_data"
    }
   ],
   "source": [
    "fig, axes = plt.subplots(nrows = 1, ncols = 3)\n",
    "fig.set_figheight(7)\n",
    "fig.set_figwidth(15)\n",
    "\n",
    "ss_ax = ss_group.unstack('Survived').plot.bar(ax=axes[0], stacked=True)\n",
    "ss_ax.set_xlabel('Sex')\n",
    "ss_ax.legend(['Not-survived', 'Survived'])\n",
    "\n",
    "cs_ax = cs_group.unstack('Survived').plot.bar(ax=axes[1], stacked=True)\n",
    "cs_ax.set_xlabel('PClass')\n",
    "cs_ax.legend(['Not-survived', 'Survived'])\n",
    "\n",
    "es_ax = es_group.unstack('Survived').plot.bar(ax=axes[2], stacked=True)\n",
    "es_ax.set_xlabel('Embark location')\n",
    "es_ax.legend(['Not-survived', 'Survived'])\n",
    "\n",
    "plt.tight_layout()\n",
    "plt.show()"
   ]
  },
  {
   "cell_type": "code",
   "execution_count": 10,
   "metadata": {},
   "outputs": [
    {
     "name": "stdout",
     "output_type": "stream",
     "text": [
      "Sex-Survived Chi2\n",
      "chi2: 260.71702016732104, p-value: 1.1973570627755645e-58\n",
      "Pclass-Survived Chi2\n",
      "chi2: 102.88898875696056, p-value: 4.549251711298793e-23\n",
      "Embarked-Survived Chi2\n",
      "chi2: 26.48914983923762, p-value: 1.769922284120912e-06\n"
     ]
    }
   ],
   "source": [
    "result = stats.chi2_contingency(ss_group.unstack('Survived'))\n",
    "print('Sex-Survived Chi2\\nchi2: {}, p-value: {}'.format(result[0], result[1]))\n",
    "\n",
    "result = stats.chi2_contingency(cs_group.unstack('Survived'))\n",
    "print('Pclass-Survived Chi2\\nchi2: {}, p-value: {}'.format(result[0], result[1]))\n",
    "\n",
    "result = stats.chi2_contingency(es_group.unstack('Survived'))\n",
    "print('Embarked-Survived Chi2\\nchi2: {}, p-value: {}'.format(result[0], result[1]))"
   ]
  },
  {
   "cell_type": "code",
   "execution_count": 11,
   "metadata": {},
   "outputs": [
    {
     "data": {
      "image/png": "[encoded data removed]",
      "text/plain": [
       "<matplotlib.figure.Figure at 0x114dc8748>"
      ]
     },
     "metadata": {},
     "output_type": "display_data"
    }
   ],
   "source": [
    "fig, axes = plt.subplots(nrows=1, ncols=2)\n",
    "fig.set_figheight(6)\n",
    "fig.set_figwidth(14)\n",
    "\n",
    "data.boxplot(ax=axes[0], column='Age', by='Survived')\n",
    "data.boxplot(ax=axes[1], column='Fare', by='Survived')\n",
    "plt.tight_layout()\n",
    "plt.show()"
   ]
  },
  {
   "cell_type": "code",
   "execution_count": 12,
   "metadata": {},
   "outputs": [
    {
     "data": {
      "image/png": "[encoded data removed]",
      "text/plain": [
       "<matplotlib.figure.Figure at 0x115817278>"
      ]
     },
     "metadata": {},
     "output_type": "display_data"
    }
   ],
   "source": [
    "fig, axes = plt.subplots(nrows=1, ncols=2)\n",
    "fig.set_figheight(6)\n",
    "fig.set_figwidth(14)\n",
    "\n",
    "data.boxplot(ax=axes[0], column='Fare', by='Pclass')\n",
    "data.boxplot(ax=axes[1], column='Age', by='Pclass')\n",
    "plt.tight_layout()\n",
    "plt.show()"
   ]
  },
  {
   "cell_type": "markdown",
   "metadata": {},
   "source": [
    "## Data preparation and model training"
   ]
  },
  {
   "cell_type": "code",
   "execution_count": 87,
   "metadata": {
    "collapsed": true
   },
   "outputs": [],
   "source": [
    "def fill_value_by_ml(row, target_col, feature_cols, model):\n",
    "    features = row[feature_cols]\n",
    "    if np.isnan(row[target_col]):\n",
    "        return float(model.predict([features]))\n",
    "    else:\n",
    "        return row[target_col]"
   ]
  },
  {
   "cell_type": "code",
   "execution_count": 40,
   "metadata": {},
   "outputs": [
    {
     "name": "stdout",
     "output_type": "stream",
     "text": [
      "    Age\n",
      "0  22.0\n",
      "1  38.0\n",
      "2  26.0\n",
      "3  35.0\n",
      "4  35.0\n",
      "   Pclass     Fare  SibSp  Parch\n",
      "0       3   7.2500      1      0\n",
      "1       1  71.2833      1      0\n",
      "2       3   7.9250      0      0\n",
      "3       1  53.1000      1      0\n",
      "4       3   8.0500      0      0\n"
     ]
    }
   ],
   "source": [
    "neighbor_features = data[np.logical_not(data['Age'].isnull())][['Age', 'Pclass', 'Fare', 'SibSp', 'Parch']]\n",
    "age_labels = neighbor_features[['Age']]\n",
    "neighbor_features = neighbor_features.iloc[:,1:]\n",
    "print(age_labels.head())\n",
    "print(neighbor_features.head())"
   ]
  },
  {
   "cell_type": "code",
   "execution_count": 45,
   "metadata": {},
   "outputs": [
    {
     "name": "stdout",
     "output_type": "stream",
     "text": [
      "     PassengerId  Survived  Pclass  \\\n",
      "5              6         0       3   \n",
      "17            18         1       2   \n",
      "19            20         1       3   \n",
      "26            27         0       3   \n",
      "28            29         1       3   \n",
      "29            30         0       3   \n",
      "31            32         1       1   \n",
      "32            33         1       3   \n",
      "36            37         1       3   \n",
      "42            43         0       3   \n",
      "45            46         0       3   \n",
      "46            47         0       3   \n",
      "47            48         1       3   \n",
      "48            49         0       3   \n",
      "55            56         1       1   \n",
      "64            65         0       1   \n",
      "65            66         1       3   \n",
      "76            77         0       3   \n",
      "77            78         0       3   \n",
      "82            83         1       3   \n",
      "87            88         0       3   \n",
      "95            96         0       3   \n",
      "101          102         0       3   \n",
      "107          108         1       3   \n",
      "109          110         1       3   \n",
      "121          122         0       3   \n",
      "126          127         0       3   \n",
      "128          129         1       3   \n",
      "140          141         0       3   \n",
      "154          155         0       3   \n",
      "..           ...       ...     ...   \n",
      "718          719         0       3   \n",
      "727          728         1       3   \n",
      "732          733         0       2   \n",
      "738          739         0       3   \n",
      "739          740         0       3   \n",
      "740          741         1       1   \n",
      "760          761         0       3   \n",
      "766          767         0       1   \n",
      "768          769         0       3   \n",
      "773          774         0       3   \n",
      "776          777         0       3   \n",
      "778          779         0       3   \n",
      "783          784         0       3   \n",
      "790          791         0       3   \n",
      "792          793         0       3   \n",
      "793          794         0       1   \n",
      "815          816         0       1   \n",
      "825          826         0       3   \n",
      "826          827         0       3   \n",
      "828          829         1       3   \n",
      "832          833         0       3   \n",
      "837          838         0       3   \n",
      "839          840         1       1   \n",
      "846          847         0       3   \n",
      "849          850         1       1   \n",
      "859          860         0       3   \n",
      "863          864         0       3   \n",
      "868          869         0       3   \n",
      "878          879         0       3   \n",
      "888          889         0       3   \n",
      "\n",
      "                                               Name     Sex  Age  SibSp  \\\n",
      "5                                  Moran, Mr. James    male  NaN      0   \n",
      "17                     Williams, Mr. Charles Eugene    male  NaN      0   \n",
      "19                          Masselmani, Mrs. Fatima  female  NaN      0   \n",
      "26                          Emir, Mr. Farred Chehab    male  NaN      0   \n",
      "28                    O'Dwyer, Miss. Ellen \"Nellie\"  female  NaN      0   \n",
      "29                              Todoroff, Mr. Lalio    male  NaN      0   \n",
      "31   Spencer, Mrs. William Augustus (Marie Eugenie)  female  NaN      1   \n",
      "32                         Glynn, Miss. Mary Agatha  female  NaN      0   \n",
      "36                                 Mamee, Mr. Hanna    male  NaN      0   \n",
      "42                              Kraeff, Mr. Theodor    male  NaN      0   \n",
      "45                         Rogers, Mr. William John    male  NaN      0   \n",
      "46                                Lennon, Mr. Denis    male  NaN      1   \n",
      "47                        O'Driscoll, Miss. Bridget  female  NaN      0   \n",
      "48                              Samaan, Mr. Youssef    male  NaN      2   \n",
      "55                                Woolner, Mr. Hugh    male  NaN      0   \n",
      "64                            Stewart, Mr. Albert A    male  NaN      0   \n",
      "65                         Moubarek, Master. Gerios    male  NaN      1   \n",
      "76                                Staneff, Mr. Ivan    male  NaN      0   \n",
      "77                         Moutal, Mr. Rahamin Haim    male  NaN      0   \n",
      "82                   McDermott, Miss. Brigdet Delia  female  NaN      0   \n",
      "87                    Slocovski, Mr. Selman Francis    male  NaN      0   \n",
      "95                      Shorney, Mr. Charles Joseph    male  NaN      0   \n",
      "101                Petroff, Mr. Pastcho (\"Pentcho\")    male  NaN      0   \n",
      "107                          Moss, Mr. Albert Johan    male  NaN      0   \n",
      "109                             Moran, Miss. Bertha  female  NaN      1   \n",
      "121                      Moore, Mr. Leonard Charles    male  NaN      0   \n",
      "126                             McMahon, Mr. Martin    male  NaN      0   \n",
      "128                               Peter, Miss. Anna  female  NaN      1   \n",
      "140                   Boulos, Mrs. Joseph (Sultana)  female  NaN      0   \n",
      "154                           Olsen, Mr. Ole Martin    male  NaN      0   \n",
      "..                                              ...     ...  ...    ...   \n",
      "718                             McEvoy, Mr. Michael    male  NaN      0   \n",
      "727                        Mannion, Miss. Margareth  female  NaN      0   \n",
      "732                            Knight, Mr. Robert J    male  NaN      0   \n",
      "738                              Ivanoff, Mr. Kanio    male  NaN      0   \n",
      "739                              Nankoff, Mr. Minko    male  NaN      0   \n",
      "740                     Hawksford, Mr. Walter James    male  NaN      0   \n",
      "760                              Garfirth, Mr. John    male  NaN      0   \n",
      "766                       Brewe, Dr. Arthur Jackson    male  NaN      0   \n",
      "768                             Moran, Mr. Daniel J    male  NaN      1   \n",
      "773                                 Elias, Mr. Dibo    male  NaN      0   \n",
      "776                                Tobin, Mr. Roger    male  NaN      0   \n",
      "778                         Kilgannon, Mr. Thomas J    male  NaN      0   \n",
      "783                          Johnston, Mr. Andrew G    male  NaN      1   \n",
      "790                        Keane, Mr. Andrew \"Andy\"    male  NaN      0   \n",
      "792                         Sage, Miss. Stella Anna  female  NaN      8   \n",
      "793                        Hoyt, Mr. William Fisher    male  NaN      0   \n",
      "815                                Fry, Mr. Richard    male  NaN      0   \n",
      "825                                 Flynn, Mr. John    male  NaN      0   \n",
      "826                                    Lam, Mr. Len    male  NaN      0   \n",
      "828                    McCormack, Mr. Thomas Joseph    male  NaN      0   \n",
      "832                                  Saad, Mr. Amin    male  NaN      0   \n",
      "837                             Sirota, Mr. Maurice    male  NaN      0   \n",
      "839                            Marechal, Mr. Pierre    male  NaN      0   \n",
      "846                        Sage, Mr. Douglas Bullen    male  NaN      8   \n",
      "849    Goldenberg, Mrs. Samuel L (Edwiga Grabowska)  female  NaN      1   \n",
      "859                                Razi, Mr. Raihed    male  NaN      0   \n",
      "863               Sage, Miss. Dorothy Edith \"Dolly\"  female  NaN      8   \n",
      "868                     van Melkebeke, Mr. Philemon    male  NaN      0   \n",
      "878                              Laleff, Mr. Kristo    male  NaN      0   \n",
      "888        Johnston, Miss. Catherine Helen \"Carrie\"  female  NaN      1   \n",
      "\n",
      "     Parch           Ticket      Fare  Cabin Embarked  \n",
      "5        0           330877    8.4583    NaN        Q  \n",
      "17       0           244373   13.0000    NaN        S  \n",
      "19       0             2649    7.2250    NaN        C  \n",
      "26       0             2631    7.2250    NaN        C  \n",
      "28       0           330959    7.8792    NaN        Q  \n",
      "29       0           349216    7.8958    NaN        S  \n",
      "31       0         PC 17569  146.5208    B78        C  \n",
      "32       0           335677    7.7500    NaN        Q  \n",
      "36       0             2677    7.2292    NaN        C  \n",
      "42       0           349253    7.8958    NaN        C  \n",
      "45       0  S.C./A.4. 23567    8.0500    NaN        S  \n",
      "46       0           370371   15.5000    NaN        Q  \n",
      "47       0            14311    7.7500    NaN        Q  \n",
      "48       0             2662   21.6792    NaN        C  \n",
      "55       0            19947   35.5000    C52        S  \n",
      "64       0         PC 17605   27.7208    NaN        C  \n",
      "65       1             2661   15.2458    NaN        C  \n",
      "76       0           349208    7.8958    NaN        S  \n",
      "77       0           374746    8.0500    NaN        S  \n",
      "82       0           330932    7.7875    NaN        Q  \n",
      "87       0  SOTON/OQ 392086    8.0500    NaN        S  \n",
      "95       0           374910    8.0500    NaN        S  \n",
      "101      0           349215    7.8958    NaN        S  \n",
      "107      0           312991    7.7750    NaN        S  \n",
      "109      0           371110   24.1500    NaN        Q  \n",
      "121      0        A4. 54510    8.0500    NaN        S  \n",
      "126      0           370372    7.7500    NaN        Q  \n",
      "128      1             2668   22.3583  F E69        C  \n",
      "140      2             2678   15.2458    NaN        C  \n",
      "154      0        Fa 265302    7.3125    NaN        S  \n",
      "..     ...              ...       ...    ...      ...  \n",
      "718      0            36568   15.5000    NaN        Q  \n",
      "727      0            36866    7.7375    NaN        Q  \n",
      "732      0           239855    0.0000    NaN        S  \n",
      "738      0           349201    7.8958    NaN        S  \n",
      "739      0           349218    7.8958    NaN        S  \n",
      "740      0            16988   30.0000    D45        S  \n",
      "760      0           358585   14.5000    NaN        S  \n",
      "766      0           112379   39.6000    NaN        C  \n",
      "768      0           371110   24.1500    NaN        Q  \n",
      "773      0             2674    7.2250    NaN        C  \n",
      "776      0           383121    7.7500    F38        Q  \n",
      "778      0            36865    7.7375    NaN        Q  \n",
      "783      2       W./C. 6607   23.4500    NaN        S  \n",
      "790      0            12460    7.7500    NaN        Q  \n",
      "792      2         CA. 2343   69.5500    NaN        S  \n",
      "793      0         PC 17600   30.6958    NaN        C  \n",
      "815      0           112058    0.0000   B102        S  \n",
      "825      0           368323    6.9500    NaN        Q  \n",
      "826      0             1601   56.4958    NaN        S  \n",
      "828      0           367228    7.7500    NaN        Q  \n",
      "832      0             2671    7.2292    NaN        C  \n",
      "837      0           392092    8.0500    NaN        S  \n",
      "839      0            11774   29.7000    C47        C  \n",
      "846      2         CA. 2343   69.5500    NaN        S  \n",
      "849      0            17453   89.1042    C92        C  \n",
      "859      0             2629    7.2292    NaN        C  \n",
      "863      2         CA. 2343   69.5500    NaN        S  \n",
      "868      0           345777    9.5000    NaN        S  \n",
      "878      0           349217    7.8958    NaN        S  \n",
      "888      2       W./C. 6607   23.4500    NaN        S  \n",
      "\n",
      "[177 rows x 12 columns]\n"
     ]
    },
    {
     "name": "stderr",
     "output_type": "stream",
     "text": [
      "/Users/chanuwasaswamenakul/tensorflow/lib/python3.6/site-packages/ipykernel_launcher.py:1: SettingWithCopyWarning: \n",
      "A value is trying to be set on a copy of a slice from a DataFrame\n",
      "\n",
      "See the caveats in the documentation: http://pandas.pydata.org/pandas-docs/stable/indexing.html#indexing-view-versus-copy\n",
      "  \"\"\"Entry point for launching an IPython kernel.\n"
     ]
    }
   ],
   "source": [
    "data[data['Age'].isnull()].loc['Age']\n",
    "print(data[data['Age'].isnull()])"
   ]
  },
  {
   "cell_type": "code",
   "execution_count": 29,
   "metadata": {},
   "outputs": [
    {
     "data": {
      "text/plain": [
       "KNeighborsRegressor(algorithm='auto', leaf_size=30, metric='minkowski',\n",
       "          metric_params=None, n_jobs=1, n_neighbors=5, p=2,\n",
       "          weights='distance')"
      ]
     },
     "execution_count": 29,
     "metadata": {},
     "output_type": "execute_result"
    }
   ],
   "source": [
    "age_regressor = neighbors.KNeighborsRegressor(weights='distance')\n",
    "age_regressor.fit(neighbor_features, age_labels)"
   ]
  },
  {
   "cell_type": "code",
   "execution_count": 84,
   "metadata": {},
   "outputs": [],
   "source": [
    "test_age = data.apply(fill_missing_age, axis=1, model=age_regressor)"
   ]
  },
  {
   "cell_type": "code",
   "execution_count": 88,
   "metadata": {},
   "outputs": [],
   "source": [
    "train_target = np.array(data['Survived'])\n",
    "\n",
    "data['Sex'] = data['Sex'].apply(lambda x: 0 if x == 'male' else 1)\n",
    "\n",
    "embark_map = {'C': 0, 'S': 1, 'Q': 2, 'Nan': 3}\n",
    "data['Embarked'].fillna('Nan', inplace=True)\n",
    "data['Embarked'] = data['Embarked'].apply(lambda x: embark_map[x])\n",
    "\n",
    "data['Age'] = data.apply(fill_value_by_ml, axis=1, target_col='Age',\n",
    "                         feature_cols=['Pclass', 'Fare', 'SibSp', 'Parch'], model=age_regressor)"
   ]
  },
  {
   "cell_type": "code",
   "execution_count": 90,
   "metadata": {},
   "outputs": [
    {
     "name": "stdout",
     "output_type": "stream",
     "text": [
      "Pclass\n",
      "1    84.154687\n",
      "2    20.662183\n",
      "3    13.675550\n",
      "Name: Fare, dtype: float64\n"
     ]
    }
   ],
   "source": [
    "fare_means = data.groupby(('Pclass'))['Fare'].mean()\n",
    "print(fare_means)"
   ]
  },
  {
   "cell_type": "code",
   "execution_count": 91,
   "metadata": {},
   "outputs": [
    {
     "name": "stdout",
     "output_type": "stream",
     "text": [
      "   Sex  Embarked\n",
      "0    0         1\n",
      "1    1         0\n",
      "2    1         1\n",
      "3    1         1\n",
      "4    0         1\n",
      "5    0         2\n",
      "6    0         1\n",
      "7    0         1\n",
      "8    1         1\n",
      "9    1         0\n"
     ]
    }
   ],
   "source": [
    "categ_features = data[['Sex', 'Embarked']]\n",
    "print(categ_features.head(10))"
   ]
  },
  {
   "cell_type": "code",
   "execution_count": 92,
   "metadata": {},
   "outputs": [],
   "source": [
    "ohe = preprocessing.OneHotEncoder()\n",
    "ohe.fit(categ_features)\n",
    "ohe_categ_features = ohe.transform(categ_features).toarray()"
   ]
  },
  {
   "cell_type": "code",
   "execution_count": 95,
   "metadata": {},
   "outputs": [
    {
     "name": "stdout",
     "output_type": "stream",
     "text": [
      "[[1. 0. 1. 0. 0.]\n",
      " [1. 1. 0. 0. 0.]\n",
      " [1. 0. 1. 0. 0.]\n",
      " ...\n",
      " [1. 0. 1. 0. 0.]\n",
      " [1. 1. 0. 0. 0.]\n",
      " [1. 0. 0. 1. 0.]]\n"
     ]
    }
   ],
   "source": [
    "print(ohe_categ_features)"
   ]
  },
  {
   "cell_type": "code",
   "execution_count": 93,
   "metadata": {},
   "outputs": [],
   "source": [
    "num_features = data[['Pclass', 'SibSp', 'Parch', 'Fare', 'Age']]"
   ]
  },
  {
   "cell_type": "code",
   "execution_count": 94,
   "metadata": {},
   "outputs": [],
   "source": [
    "train_data = np.column_stack((ohe_categ_features, num_features.values))"
   ]
  },
  {
   "cell_type": "code",
   "execution_count": 109,
   "metadata": {
    "collapsed": true
   },
   "outputs": [],
   "source": [
    "bounds = np.array([[-3, 2]])\n",
    "\n",
    "n_params = bounds.shape[0]\n",
    "n_restarts = 15\n",
    "\n",
    "k_fold = 4\n",
    "\n",
    "sample_vars = np.random.uniform(bounds[:,0], bounds[:,1], size=(n_restarts, n_params))\n",
    "unit_nums = np.arange(2,8)"
   ]
  },
  {
   "cell_type": "code",
   "execution_count": 112,
   "metadata": {},
   "outputs": [
    {
     "name": "stdout",
     "output_type": "stream",
     "text": [
      "Logit model\n",
      "[1] C: 23.835812227567363, accuracy: 0.659217877094972\n",
      "[2] C: 58.8678156528788, accuracy: 0.659217877094972\n",
      "[3] C: 0.027309508060743753, accuracy: 0.659217877094972\n",
      "[4] C: 0.03586598389809919, accuracy: 0.659217877094972\n",
      "[5] C: 0.03689986281033986, accuracy: 0.664804469273743\n",
      "[6] C: 8.846083946230046, accuracy: 0.659217877094972\n",
      "[7] C: 0.0615257580085243, accuracy: 0.6536312849162011\n",
      "[8] C: 65.89024998803797, accuracy: 0.659217877094972\n",
      "[9] C: 0.13947694081883033, accuracy: 0.664804469273743\n",
      "[10] C: 4.729695492405303, accuracy: 0.659217877094972\n",
      "[11] C: 0.05911958156494384, accuracy: 0.6536312849162011\n",
      "[12] C: 0.6470444167020922, accuracy: 0.659217877094972\n",
      "[13] C: 6.022988520164214, accuracy: 0.659217877094972\n",
      "[14] C: 55.67241789465446, accuracy: 0.659217877094972\n",
      "[15] C: 0.008078814840815131, accuracy: 0.6536312849162011\n",
      "Neural networks model\n",
      "[1] unit_num: 2, accuracy: 0.5921787709497207\n",
      "[2] unit_num: 3, accuracy: 0.5921787709497207\n",
      "[3] unit_num: 4, accuracy: 0.776536312849162\n",
      "[4] unit_num: 5, accuracy: 0.5921787709497207\n",
      "[5] unit_num: 6, accuracy: 0.5921787709497207\n",
      "[6] unit_num: 7, accuracy: 0.5921787709497207\n",
      "Stacked classifier\n"
     ]
    },
    {
     "name": "stderr",
     "output_type": "stream",
     "text": [
      "/Users/chanuwasaswamenakul/tensorflow/lib/python3.6/site-packages/sklearn/neural_network/multilayer_perceptron.py:564: ConvergenceWarning: Stochastic Optimizer: Maximum iterations (200) reached and the optimization hasn't converged yet.\n",
      "  % self.max_iter, ConvergenceWarning)\n"
     ]
    },
    {
     "name": "stdout",
     "output_type": "stream",
     "text": [
      "[1] C: 23.835812227567363, accuracy: 0.7458100558659218\n",
      "[2] C: 58.8678156528788, accuracy: 0.7430167597765364\n",
      "[3] C: 0.027309508060743753, accuracy: 0.6494413407821229\n",
      "[4] C: 0.03586598389809919, accuracy: 0.7458100558659218\n",
      "[5] C: 0.03689986281033986, accuracy: 0.6648044692737429\n",
      "[6] C: 8.846083946230046, accuracy: 0.7653631284916201\n",
      "[7] C: 0.0615257580085243, accuracy: 0.7402234636871508\n",
      "[8] C: 65.89024998803797, accuracy: 0.6815642458100558\n",
      "[9] C: 0.13947694081883033, accuracy: 0.7472067039106145\n",
      "[10] C: 4.729695492405303, accuracy: 0.7835195530726258\n",
      "[11] C: 0.05911958156494384, accuracy: 0.6620111731843575\n",
      "[12] C: 0.6470444167020922, accuracy: 0.7108938547486033\n",
      "[13] C: 6.022988520164214, accuracy: 0.7751396648044693\n",
      "[14] C: 55.67241789465446, accuracy: 0.7793296089385474\n",
      "[15] C: 0.008078814840815131, accuracy: 0.6075418994413408\n"
     ]
    }
   ],
   "source": [
    "acc_scores = np.zeros((3, n_restarts))\n",
    "\n",
    "# Tuning the first classifier for numeric features\n",
    "print('Logit model')\n",
    "for i in range(n_restarts):\n",
    "    c = 10**sample_vars[i][0]\n",
    "    cross_scores = list()\n",
    "    for j in range(k_fold):\n",
    "        x_train, x_val, y_train, y_val = train_test_split(train_data, train_target, test_size=0.2, random_state=1)\n",
    "        train_categ = x_train[:,:6]\n",
    "        val_categ = x_val[:,:6]\n",
    "        train_num = x_train[:,6:]\n",
    "        val_num = x_val[:,6:]\n",
    "\n",
    "        # Classifiers 1: numerical features\n",
    "        clf1 = linear_model.LogisticRegression(C=c, random_state=1)\n",
    "        clf1.fit(train_num, y_train)\n",
    "        \n",
    "        y_pred = clf1.predict(val_num)\n",
    "        acc_score = metrics.accuracy_score(y_val, y_pred)\n",
    "        cross_scores.append(acc_score)\n",
    "        \n",
    "    acc_scores[0][i] = np.mean(cross_scores)\n",
    "    print('[{}] C: {}, accuracy: {}'.format(i+1, c, acc_scores[0][i]))\n",
    "\n",
    "# Tuning the second classifier for categorical features\n",
    "print('Neural networks model')\n",
    "for i in range(unit_nums.shape[0]):\n",
    "    unit_num = unit_nums[i]\n",
    "    cross_scores = list()\n",
    "    for j in range(k_fold):\n",
    "        x_train, x_val, y_train, y_val = train_test_split(train_data, train_target, test_size=0.2, random_state=1)\n",
    "        train_categ = x_train[:,:6]\n",
    "        val_categ = x_val[:,:6]\n",
    "        train_num = x_train[:,6:]\n",
    "        val_num = x_val[:,6:]\n",
    "        \n",
    "        # Classifier 2: categorical features\n",
    "        clf2 = neural_network.MLPClassifier(hidden_layer_sizes=(unit_num,2), max_iter=1000, random_state=1)\n",
    "        clf2.fit(train_categ, y_train)\n",
    "        \n",
    "        y_pred = clf2.predict(val_categ)\n",
    "        acc_score = metrics.accuracy_score(y_val, y_pred)\n",
    "        cross_scores.append(acc_score)\n",
    "        \n",
    "    acc_scores[1][i] = np.mean(cross_scores[1])\n",
    "    print('[{}] unit_num: {}, accuracy: {}'.format(i+1, unit_num, acc_scores[1][i]))\n",
    "    \n",
    "# Extracting the optimal set of hyperparameters\n",
    "best_c = 10**sample_vars[np.argmax(acc_scores[0])][0]\n",
    "best_unit_num = unit_nums[np.argmax(acc_scores[1])]\n",
    "    \n",
    "# Tuning the stacked classifier\n",
    "print('Stacked classifier')\n",
    "for i in range(n_restarts):\n",
    "    c = 10**sample_vars[i][0]\n",
    "    cross_scores = list()\n",
    "    for j in range(k_fold):\n",
    "        x_train, x_val, y_train, y_val = train_test_split(train_data, train_target, test_size=0.2, random_state=1)\n",
    "        train_categ = x_train[:,:6]\n",
    "        val_categ = x_val[:,:6]\n",
    "        train_num = x_train[:,6:]\n",
    "        val_num = x_val[:,6:]\n",
    "        \n",
    "        clf1 = linear_model.LogisticRegression(C=best_c, random_state=1)\n",
    "        clf2 = neural_network.MLPClassifier(hidden_layer_sizes=(best_unit_num,2))\n",
    "        \n",
    "        clf1.fit(train_num, y_train)\n",
    "        clf2.fit(train_categ, y_train)\n",
    "        \n",
    "        # Stacked classifier trained using probabilities from previous classifiers\n",
    "        prb1 = clf1.predict_proba(train_num)\n",
    "        prb2 = clf2.predict_proba(train_categ)\n",
    "        train_prob = np.column_stack((prb1, prb2))\n",
    "\n",
    "        stack_clf = linear_model.LogisticRegression(C=c, random_state=1)\n",
    "        stack_clf.fit(train_prob, y_train)\n",
    "\n",
    "        # Validation test\n",
    "        val_prb1 = clf1.predict_proba(val_num)\n",
    "        val_prb2 = clf2.predict_proba(val_categ)\n",
    "        val_prob = np.column_stack((val_prb1, val_prb2))\n",
    "        y_pred = stack_clf.predict(val_prob)\n",
    "\n",
    "        acc_score = metrics.accuracy_score(y_val, y_pred)\n",
    "        #confusion_mat = metrics.confusion_matrix(y_val, y_pred)\n",
    "        \n",
    "        cross_scores.append(acc_score)\n",
    "    acc_scores[2][i] = np.mean(cross_scores)\n",
    "    print('[{}] C: {}, accuracy: {}'.format(i+1, c, acc_scores[2][i]))"
   ]
  },
  {
   "cell_type": "markdown",
   "metadata": {},
   "source": [
    "# Test"
   ]
  },
  {
   "cell_type": "code",
   "execution_count": 14,
   "metadata": {
    "collapsed": true
   },
   "outputs": [],
   "source": [
    "test_df = pd.read_csv('Titanic/test.csv')"
   ]
  },
  {
   "cell_type": "code",
   "execution_count": 32,
   "metadata": {
    "collapsed": true
   },
   "outputs": [],
   "source": [
    "test_data = np.column_stack((test_p_class, test_age, test_sex, test_embark, test_sib, test_par, test_fare))\n",
    "test_pred = model.predict(test_data)"
   ]
  },
  {
   "cell_type": "code",
   "execution_count": 35,
   "metadata": {
    "collapsed": true
   },
   "outputs": [],
   "source": [
    "output_df = pd.DataFrame(test_df['PassengerId'])\n",
    "output_df['Survived'] = test_pred\n",
    "output_df.to_csv('Titanic/titanic_submission.csv', index=False)"
   ]
  },
  {
   "cell_type": "code",
   "execution_count": null,
   "metadata": {
    "collapsed": true
   },
   "outputs": [],
   "source": []
  }
 ],
 "metadata": {
  "kernelspec": {
   "display_name": "Python 3",
   "language": "python",
   "name": "python3"
  },
  "language_info": {
   "codemirror_mode": {
    "name": "ipython",
    "version": 3
   },
   "file_extension": ".py",
   "mimetype": "text/x-python",
   "name": "python",
   "nbconvert_exporter": "python",
   "pygments_lexer": "ipython3",
   "version": "3.6.1"
  }
 },
 "nbformat": 4,
 "nbformat_minor": 2
}
