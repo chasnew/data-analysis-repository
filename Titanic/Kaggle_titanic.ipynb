{
 "cells": [
  {
   "cell_type": "code",
   "execution_count": 1,
   "metadata": {
    "collapsed": true
   },
   "outputs": [],
   "source": [
    "import numpy as np\n",
    "import pandas as pd\n",
    "import matplotlib.pyplot as plt\n",
    "from scipy import stats\n",
    "\n",
    "from sklearn import preprocessing\n",
    "from sklearn import svm, metrics, neural_network, linear_model\n",
    "from sklearn import neighbors\n",
    "from sklearn.model_selection import train_test_split"
   ]
  },
  {
   "cell_type": "code",
   "execution_count": 2,
   "metadata": {
    "collapsed": true
   },
   "outputs": [],
   "source": [
    "data = pd.read_csv('train.csv')"
   ]
  },
  {
   "cell_type": "code",
   "execution_count": 3,
   "metadata": {},
   "outputs": [
    {
     "name": "stdout",
     "output_type": "stream",
     "text": [
      "<class 'pandas.core.frame.DataFrame'>\n",
      "RangeIndex: 891 entries, 0 to 890\n",
      "Data columns (total 12 columns):\n",
      "PassengerId    891 non-null int64\n",
      "Survived       891 non-null int64\n",
      "Pclass         891 non-null int64\n",
      "Name           891 non-null object\n",
      "Sex            891 non-null object\n",
      "Age            714 non-null float64\n",
      "SibSp          891 non-null int64\n",
      "Parch          891 non-null int64\n",
      "Ticket         891 non-null object\n",
      "Fare           891 non-null float64\n",
      "Cabin          204 non-null object\n",
      "Embarked       889 non-null object\n",
      "dtypes: float64(2), int64(5), object(5)\n",
      "memory usage: 83.6+ KB\n",
      "None\n"
     ]
    }
   ],
   "source": [
    "print(data.info())"
   ]
  },
  {
   "cell_type": "markdown",
   "metadata": {},
   "source": [
    "## VariableDefinition\n",
    "survival: Survival 0 = No, 1 = Yes \n",
    "\n",
    "pclass: Ticket class 1 = 1st, 2 = 2nd, 3 = 3rd \n",
    "\n",
    "Sex: 'male', 'female'\n",
    "\n",
    "sibsp: # of siblings / spouses aboard the Titanic \n",
    "\n",
    "parch: # of parents / children aboard the Titanic\n",
    "\n",
    "ticket: Ticket number\n",
    "\n",
    "fare: Passenger fare \n",
    "\n",
    "cabin: Cabin number \n",
    "\n",
    "embarked: Port of Embarkation (C = Cherbourg, Q = Queenstown, S = Southampton)\n",
    "\n",
    "### Variable Notes\n",
    "pclass: A proxy for socio-economic status (SES)\n",
    "1st = Upper\n",
    "2nd = Middle\n",
    "3rd = Lower\n",
    "\n",
    "age: Age is fractional if less than 1. If the age is estimated, is it in the form of xx.5\n",
    "\n",
    "sibsp: The dataset defines family relations in this way...\n",
    "Sibling = brother, sister, stepbrother, stepsister\n",
    "Spouse = husband, wife (mistresses and fiancés were ignored)\n",
    "\n",
    "parch: The dataset defines family relations in this way...\n",
    "Parent = mother, father\n",
    "Child = daughter, son, stepdaughter, stepson\n",
    "Some children travelled only with a nanny, therefore parch=0 for them."
   ]
  },
  {
   "cell_type": "code",
   "execution_count": 4,
   "metadata": {},
   "outputs": [
    {
     "data": {
      "text/html": [
       "<div>\n",
       "<style scoped>\n",
       "    .dataframe tbody tr th:only-of-type {\n",
       "        vertical-align: middle;\n",
       "    }\n",
       "\n",
       "    .dataframe tbody tr th {\n",
       "        vertical-align: top;\n",
       "    }\n",
       "\n",
       "    .dataframe thead th {\n",
       "        text-align: right;\n",
       "    }\n",
       "</style>\n",
       "<table border=\"1\" class=\"dataframe\">\n",
       "  <thead>\n",
       "    <tr style=\"text-align: right;\">\n",
       "      <th></th>\n",
       "      <th>PassengerId</th>\n",
       "      <th>Survived</th>\n",
       "      <th>Pclass</th>\n",
       "      <th>Name</th>\n",
       "      <th>Sex</th>\n",
       "      <th>Age</th>\n",
       "      <th>SibSp</th>\n",
       "      <th>Parch</th>\n",
       "      <th>Ticket</th>\n",
       "      <th>Fare</th>\n",
       "      <th>Cabin</th>\n",
       "      <th>Embarked</th>\n",
       "    </tr>\n",
       "  </thead>\n",
       "  <tbody>\n",
       "    <tr>\n",
       "      <th>0</th>\n",
       "      <td>1</td>\n",
       "      <td>0</td>\n",
       "      <td>3</td>\n",
       "      <td>Braund, Mr. Owen Harris</td>\n",
       "      <td>male</td>\n",
       "      <td>22.0</td>\n",
       "      <td>1</td>\n",
       "      <td>0</td>\n",
       "      <td>A/5 21171</td>\n",
       "      <td>7.2500</td>\n",
       "      <td>NaN</td>\n",
       "      <td>S</td>\n",
       "    </tr>\n",
       "    <tr>\n",
       "      <th>1</th>\n",
       "      <td>2</td>\n",
       "      <td>1</td>\n",
       "      <td>1</td>\n",
       "      <td>Cumings, Mrs. John Bradley (Florence Briggs Th...</td>\n",
       "      <td>female</td>\n",
       "      <td>38.0</td>\n",
       "      <td>1</td>\n",
       "      <td>0</td>\n",
       "      <td>PC 17599</td>\n",
       "      <td>71.2833</td>\n",
       "      <td>C85</td>\n",
       "      <td>C</td>\n",
       "    </tr>\n",
       "    <tr>\n",
       "      <th>2</th>\n",
       "      <td>3</td>\n",
       "      <td>1</td>\n",
       "      <td>3</td>\n",
       "      <td>Heikkinen, Miss. Laina</td>\n",
       "      <td>female</td>\n",
       "      <td>26.0</td>\n",
       "      <td>0</td>\n",
       "      <td>0</td>\n",
       "      <td>STON/O2. 3101282</td>\n",
       "      <td>7.9250</td>\n",
       "      <td>NaN</td>\n",
       "      <td>S</td>\n",
       "    </tr>\n",
       "    <tr>\n",
       "      <th>3</th>\n",
       "      <td>4</td>\n",
       "      <td>1</td>\n",
       "      <td>1</td>\n",
       "      <td>Futrelle, Mrs. Jacques Heath (Lily May Peel)</td>\n",
       "      <td>female</td>\n",
       "      <td>35.0</td>\n",
       "      <td>1</td>\n",
       "      <td>0</td>\n",
       "      <td>113803</td>\n",
       "      <td>53.1000</td>\n",
       "      <td>C123</td>\n",
       "      <td>S</td>\n",
       "    </tr>\n",
       "    <tr>\n",
       "      <th>4</th>\n",
       "      <td>5</td>\n",
       "      <td>0</td>\n",
       "      <td>3</td>\n",
       "      <td>Allen, Mr. William Henry</td>\n",
       "      <td>male</td>\n",
       "      <td>35.0</td>\n",
       "      <td>0</td>\n",
       "      <td>0</td>\n",
       "      <td>373450</td>\n",
       "      <td>8.0500</td>\n",
       "      <td>NaN</td>\n",
       "      <td>S</td>\n",
       "    </tr>\n",
       "    <tr>\n",
       "      <th>5</th>\n",
       "      <td>6</td>\n",
       "      <td>0</td>\n",
       "      <td>3</td>\n",
       "      <td>Moran, Mr. James</td>\n",
       "      <td>male</td>\n",
       "      <td>NaN</td>\n",
       "      <td>0</td>\n",
       "      <td>0</td>\n",
       "      <td>330877</td>\n",
       "      <td>8.4583</td>\n",
       "      <td>NaN</td>\n",
       "      <td>Q</td>\n",
       "    </tr>\n",
       "    <tr>\n",
       "      <th>6</th>\n",
       "      <td>7</td>\n",
       "      <td>0</td>\n",
       "      <td>1</td>\n",
       "      <td>McCarthy, Mr. Timothy J</td>\n",
       "      <td>male</td>\n",
       "      <td>54.0</td>\n",
       "      <td>0</td>\n",
       "      <td>0</td>\n",
       "      <td>17463</td>\n",
       "      <td>51.8625</td>\n",
       "      <td>E46</td>\n",
       "      <td>S</td>\n",
       "    </tr>\n",
       "    <tr>\n",
       "      <th>7</th>\n",
       "      <td>8</td>\n",
       "      <td>0</td>\n",
       "      <td>3</td>\n",
       "      <td>Palsson, Master. Gosta Leonard</td>\n",
       "      <td>male</td>\n",
       "      <td>2.0</td>\n",
       "      <td>3</td>\n",
       "      <td>1</td>\n",
       "      <td>349909</td>\n",
       "      <td>21.0750</td>\n",
       "      <td>NaN</td>\n",
       "      <td>S</td>\n",
       "    </tr>\n",
       "    <tr>\n",
       "      <th>8</th>\n",
       "      <td>9</td>\n",
       "      <td>1</td>\n",
       "      <td>3</td>\n",
       "      <td>Johnson, Mrs. Oscar W (Elisabeth Vilhelmina Berg)</td>\n",
       "      <td>female</td>\n",
       "      <td>27.0</td>\n",
       "      <td>0</td>\n",
       "      <td>2</td>\n",
       "      <td>347742</td>\n",
       "      <td>11.1333</td>\n",
       "      <td>NaN</td>\n",
       "      <td>S</td>\n",
       "    </tr>\n",
       "    <tr>\n",
       "      <th>9</th>\n",
       "      <td>10</td>\n",
       "      <td>1</td>\n",
       "      <td>2</td>\n",
       "      <td>Nasser, Mrs. Nicholas (Adele Achem)</td>\n",
       "      <td>female</td>\n",
       "      <td>14.0</td>\n",
       "      <td>1</td>\n",
       "      <td>0</td>\n",
       "      <td>237736</td>\n",
       "      <td>30.0708</td>\n",
       "      <td>NaN</td>\n",
       "      <td>C</td>\n",
       "    </tr>\n",
       "  </tbody>\n",
       "</table>\n",
       "</div>"
      ],
      "text/plain": [
       "   PassengerId  Survived  Pclass  \\\n",
       "0            1         0       3   \n",
       "1            2         1       1   \n",
       "2            3         1       3   \n",
       "3            4         1       1   \n",
       "4            5         0       3   \n",
       "5            6         0       3   \n",
       "6            7         0       1   \n",
       "7            8         0       3   \n",
       "8            9         1       3   \n",
       "9           10         1       2   \n",
       "\n",
       "                                                Name     Sex   Age  SibSp  \\\n",
       "0                            Braund, Mr. Owen Harris    male  22.0      1   \n",
       "1  Cumings, Mrs. John Bradley (Florence Briggs Th...  female  38.0      1   \n",
       "2                             Heikkinen, Miss. Laina  female  26.0      0   \n",
       "3       Futrelle, Mrs. Jacques Heath (Lily May Peel)  female  35.0      1   \n",
       "4                           Allen, Mr. William Henry    male  35.0      0   \n",
       "5                                   Moran, Mr. James    male   NaN      0   \n",
       "6                            McCarthy, Mr. Timothy J    male  54.0      0   \n",
       "7                     Palsson, Master. Gosta Leonard    male   2.0      3   \n",
       "8  Johnson, Mrs. Oscar W (Elisabeth Vilhelmina Berg)  female  27.0      0   \n",
       "9                Nasser, Mrs. Nicholas (Adele Achem)  female  14.0      1   \n",
       "\n",
       "   Parch            Ticket     Fare Cabin Embarked  \n",
       "0      0         A/5 21171   7.2500   NaN        S  \n",
       "1      0          PC 17599  71.2833   C85        C  \n",
       "2      0  STON/O2. 3101282   7.9250   NaN        S  \n",
       "3      0            113803  53.1000  C123        S  \n",
       "4      0            373450   8.0500   NaN        S  \n",
       "5      0            330877   8.4583   NaN        Q  \n",
       "6      0             17463  51.8625   E46        S  \n",
       "7      1            349909  21.0750   NaN        S  \n",
       "8      2            347742  11.1333   NaN        S  \n",
       "9      0            237736  30.0708   NaN        C  "
      ]
     },
     "execution_count": 4,
     "metadata": {},
     "output_type": "execute_result"
    }
   ],
   "source": [
    "data.head(10)"
   ]
  },
  {
   "cell_type": "markdown",
   "metadata": {},
   "source": [
    "## Data visualization"
   ]
  },
  {
   "cell_type": "code",
   "execution_count": 5,
   "metadata": {
    "collapsed": true
   },
   "outputs": [],
   "source": [
    "survive_group = data.groupby(('Survived'))[['Survived']].count()\n",
    "survive_group.rename(columns={'Survived': 'count'}, inplace=True)\n",
    "\n",
    "gb_group = data.groupby(('Sex'))[['Sex']].count()\n",
    "gb_group.rename(columns={'Sex': 'count'}, inplace=True)\n",
    "\n",
    "class_group = data.groupby(('Pclass'))[['Pclass']].count()\n",
    "class_group.columns = ['count']\n",
    "\n",
    "embark_group = data.groupby(('Embarked'))[['Embarked']].count()\n",
    "embark_group.columns = ['count']\n",
    "\n",
    "ss_group = data.groupby(('Survived', 'Sex'))[['Sex']].count()\n",
    "cs_group = data.groupby(('Survived', 'Pclass'))[['Pclass']].count()\n",
    "es_group = data.groupby(('Survived', 'Embarked'))[['Embarked']].count()"
   ]
  },
  {
   "cell_type": "markdown",
   "metadata": {},
   "source": [
    "## Categorical distributions"
   ]
  },
  {
   "cell_type": "code",
   "execution_count": 6,
   "metadata": {},
   "outputs": [
    {
     "name": "stdout",
     "output_type": "stream",
     "text": [
      "          count\n",
      "Survived       \n",
      "0           549\n",
      "1           342\n",
      "        count\n",
      "Sex          \n",
      "female    314\n",
      "male      577\n",
      "        count\n",
      "Pclass       \n",
      "1         216\n",
      "2         184\n",
      "3         491\n",
      "          count\n",
      "Embarked       \n",
      "C           168\n",
      "Q            77\n",
      "S           644\n"
     ]
    }
   ],
   "source": [
    "print(survive_group)\n",
    "print(gb_group)\n",
    "print(class_group)\n",
    "print(embark_group)"
   ]
  },
  {
   "cell_type": "code",
   "execution_count": 6,
   "metadata": {},
   "outputs": [
    {
     "data": {
      "image/png": "[encoded data removed]",
      "text/plain": [
       "<matplotlib.figure.Figure at 0x10aaeb3c8>"
      ]
     },
     "metadata": {},
     "output_type": "display_data"
    }
   ],
   "source": [
    "fig, axes = plt.subplots(nrows = 2, ncols = 2)\n",
    "fig.set_figheight(10)\n",
    "fig.set_figwidth(12)\n",
    "\n",
    "surv_ax = survive_group.unstack().plot.bar(ax=axes[0,0], title='Survival ratio')\n",
    "surv_ax.set_xlabel('Survival status')\n",
    "surv_ax.set_xticklabels(['not-survived', 'survived'])\n",
    "\n",
    "sex_ax = gb_group.unstack().plot.bar(ax=axes[0,1], title='Sex ratio')\n",
    "sex_ax.set_xlabel('Sex')\n",
    "sex_ax.set_xticklabels(['female', 'male'])\n",
    "\n",
    "class_ax = class_group.unstack().plot.bar(ax=axes[1,0], title='Class ratio')\n",
    "class_ax.set_xlabel('Pclass')\n",
    "class_ax.set_xticklabels(['1','2','3'])\n",
    "\n",
    "embark_ax = embark_group.unstack().plot.bar(ax=axes[1,1], title='Embark location ratio')\n",
    "embark_ax.set_xlabel('Embark location')\n",
    "embark_ax.set_xticklabels(['C','Q','S'])\n",
    "\n",
    "plt.tight_layout()\n",
    "plt.show()"
   ]
  },
  {
   "cell_type": "markdown",
   "metadata": {},
   "source": [
    "## Numerical distributions"
   ]
  },
  {
   "cell_type": "code",
   "execution_count": 7,
   "metadata": {},
   "outputs": [
    {
     "data": {
      "image/png": "[encoded data removed]",
      "text/plain": [
       "<matplotlib.figure.Figure at 0x10b1c4f60>"
      ]
     },
     "metadata": {},
     "output_type": "display_data"
    }
   ],
   "source": [
    "fig, axes = plt.subplots(nrows=1, ncols=2)\n",
    "fig.set_figheight(6)\n",
    "fig.set_figwidth(14)\n",
    "\n",
    "data['Age'].plot.hist(ax=axes[0], bins=40, histtype='step', color='green', title='Age distribution')\n",
    "data['Fare'].plot.hist(ax=axes[1], bins=40, histtype='step', color='green', title='Fare distribution')\n",
    "plt.tight_layout()\n",
    "plt.show()"
   ]
  },
  {
   "cell_type": "markdown",
   "metadata": {},
   "source": [
    "## Variable relationships"
   ]
  },
  {
   "cell_type": "code",
   "execution_count": 35,
   "metadata": {
    "collapsed": true
   },
   "outputs": [],
   "source": [
    "density_function = lambda x: x/float(x.sum())"
   ]
  },
  {
   "cell_type": "code",
   "execution_count": 36,
   "metadata": {},
   "outputs": [
    {
     "data": {
      "image/png": "[encoded data removed]",
      "text/plain": [
       "<matplotlib.figure.Figure at 0x10c098e10>"
      ]
     },
     "metadata": {},
     "output_type": "display_data"
    }
   ],
   "source": [
    "fig, axes = plt.subplots(nrows = 1, ncols = 3)\n",
    "fig.set_figheight(7)\n",
    "fig.set_figwidth(15)\n",
    "\n",
    "ss_ax = ss_group.groupby(level=1).apply(density_function).unstack('Survived').plot.bar(ax=axes[0], stacked=True,\n",
    "                                                                                       title='sex-survived ratio')\n",
    "ss_ax.set_xlabel('Sex')\n",
    "ss_ax.legend(['Not-survived', 'Survived'])\n",
    "\n",
    "cs_ax = cs_group.groupby(level=1).apply(density_function).unstack('Survived').plot.bar(ax=axes[1], stacked=True,\n",
    "                                                                                       title='Pclass-survived ratio')\n",
    "cs_ax.set_xlabel('PClass')\n",
    "cs_ax.legend(['Not-survived', 'Survived'])\n",
    "\n",
    "es_ax = es_group.groupby(level=1).apply(density_function).unstack('Survived').plot.bar(ax=axes[2], stacked=True,\n",
    "                                                                                       title='embark-survived ratio')\n",
    "es_ax.set_xlabel('Embark location')\n",
    "es_ax.legend(['Not-survived', 'Survived'])\n",
    "\n",
    "plt.tight_layout()\n",
    "plt.show()"
   ]
  },
  {
   "cell_type": "markdown",
   "metadata": {},
   "source": [
    "Sex perceivably has a strong correlation with survival rate compared to other variables."
   ]
  },
  {
   "cell_type": "code",
   "execution_count": 9,
   "metadata": {},
   "outputs": [
    {
     "name": "stdout",
     "output_type": "stream",
     "text": [
      "Sex-Survived Chi2\n",
      "chi2: 260.71702016732104, p-value: 1.1973570627755645e-58\n",
      "Pclass-Survived Chi2\n",
      "chi2: 102.88898875696056, p-value: 4.549251711298793e-23\n",
      "Embarked-Survived Chi2\n",
      "chi2: 26.48914983923762, p-value: 1.769922284120912e-06\n"
     ]
    }
   ],
   "source": [
    "result = stats.chi2_contingency(ss_group.unstack('Survived'))\n",
    "print('Sex-Survived Chi2\\nchi2: {}, p-value: {}'.format(result[0], result[1]))\n",
    "\n",
    "result = stats.chi2_contingency(cs_group.unstack('Survived'))\n",
    "print('Pclass-Survived Chi2\\nchi2: {}, p-value: {}'.format(result[0], result[1]))\n",
    "\n",
    "result = stats.chi2_contingency(es_group.unstack('Survived'))\n",
    "print('Embarked-Survived Chi2\\nchi2: {}, p-value: {}'.format(result[0], result[1]))"
   ]
  },
  {
   "cell_type": "code",
   "execution_count": 10,
   "metadata": {},
   "outputs": [
    {
     "data": {
      "image/png": "[encoded data removed]",
      "text/plain": [
       "<matplotlib.figure.Figure at 0x10b53a240>"
      ]
     },
     "metadata": {},
     "output_type": "display_data"
    }
   ],
   "source": [
    "fig, axes = plt.subplots(nrows=1, ncols=2)\n",
    "fig.set_figheight(6)\n",
    "fig.set_figwidth(14)\n",
    "\n",
    "data.boxplot(ax=axes[0], column='Age', by='Survived')\n",
    "data.boxplot(ax=axes[1], column='Fare', by='Survived')\n",
    "plt.tight_layout()\n",
    "plt.show()"
   ]
  },
  {
   "cell_type": "code",
   "execution_count": 11,
   "metadata": {},
   "outputs": [
    {
     "data": {
      "image/png": "[encoded data removed]",
      "text/plain": [
       "<matplotlib.figure.Figure at 0x10ac51358>"
      ]
     },
     "metadata": {},
     "output_type": "display_data"
    }
   ],
   "source": [
    "fig, axes = plt.subplots(nrows=1, ncols=2)\n",
    "fig.set_figheight(6)\n",
    "fig.set_figwidth(14)\n",
    "\n",
    "data.boxplot(ax=axes[0], column='Fare', by='Pclass')\n",
    "data.boxplot(ax=axes[1], column='Age', by='Pclass')\n",
    "plt.tight_layout()\n",
    "plt.show()"
   ]
  },
  {
   "cell_type": "code",
   "execution_count": 31,
   "metadata": {},
   "outputs": [
    {
     "data": {
      "image/png": "[encoded data removed]",
      "text/plain": [
       "<matplotlib.figure.Figure at 0x10c65a5f8>"
      ]
     },
     "metadata": {},
     "output_type": "display_data"
    }
   ],
   "source": [
    "fig, axes = plt.subplots(nrows=1, ncols=2)\n",
    "fig.set_figheight(6)\n",
    "fig.set_figwidth(14)\n",
    "\n",
    "data[np.logical_and(data['Sex'] == 'male', \n",
    "                    data['Survived'] == 0)].plot.scatter(x='Fare', y='Age', color='red', title='male scatter',\n",
    "                                                         label='not-survived', ax=axes[0])\n",
    "data[np.logical_and(data['Sex'] == 'male', \n",
    "                    data['Survived'] == 1)].plot.scatter(x='Fare', y='Age', color='green',\n",
    "                                                         label='survived', ax=axes[0])\n",
    "\n",
    "data[np.logical_and(data['Sex'] == 'female', \n",
    "                    data['Survived'] == 0)].plot.scatter(x='Fare', y='Age', color='red', title='female scatter',\n",
    "                                                         label='not-survived', ax=axes[1])\n",
    "data[np.logical_and(data['Sex'] == 'female', \n",
    "                    data['Survived'] == 1)].plot.scatter(x='Fare', y='Age', color='green',\n",
    "                                                         label='survived', ax=axes[1])\n",
    "\n",
    "plt.show()"
   ]
  },
  {
   "cell_type": "code",
   "execution_count": 32,
   "metadata": {},
   "outputs": [
    {
     "data": {
      "text/plain": [
       "0    678\n",
       "1    118\n",
       "2     80\n",
       "5      5\n",
       "3      5\n",
       "4      4\n",
       "6      1\n",
       "Name: Parch, dtype: int64"
      ]
     },
     "execution_count": 32,
     "metadata": {},
     "output_type": "execute_result"
    }
   ],
   "source": [
    "data['Parch'].value_counts()"
   ]
  },
  {
   "cell_type": "code",
   "execution_count": 47,
   "metadata": {
    "collapsed": true
   },
   "outputs": [],
   "source": [
    "parch_group = data.groupby(['Parch'])[['Parch']].count()\n",
    "parch_group.columns = ['count']\n",
    "\n",
    "ps_group = data.groupby(('Survived', 'Parch'))[['Parch']].count()"
   ]
  },
  {
   "cell_type": "code",
   "execution_count": 50,
   "metadata": {},
   "outputs": [
    {
     "data": {
      "image/png": "[encoded data removed]",
      "text/plain": [
       "<matplotlib.figure.Figure at 0x10cba8c88>"
      ]
     },
     "metadata": {},
     "output_type": "display_data"
    }
   ],
   "source": [
    "fig, axes = plt.subplots(nrows=1,ncols=2)\n",
    "fig.set_figheight(6)\n",
    "fig.set_figwidth(14)\n",
    "\n",
    "parch_ax = parch_group.unstack().plot.bar(ax = axes[0], title = 'parents/children-number distribution')\n",
    "parch_ax.set_xlabel('Number of parents/children')\n",
    "parch_ax.set_xticklabels(np.arange(7).astype(np.int64))\n",
    "\n",
    "ps_ax = ps_group.groupby(level=1).apply(density_function).unstack('Survived').plot.bar(ax = axes[1], stacked=True,\n",
    "                                                                                       title='parch-survived ratio')\n",
    "ps_ax.set_xlabel('Parent-children numbers')\n",
    "ps_ax.legend(['Not-survived', 'Survived'])\n",
    "plt.show()"
   ]
  },
  {
   "cell_type": "code",
   "execution_count": 92,
   "metadata": {},
   "outputs": [
    {
     "name": "stdout",
     "output_type": "stream",
     "text": [
      "          Survived    Pclass       Age     SibSp     Parch      Fare\n",
      "Survived  1.000000 -0.338481 -0.077221 -0.035322  0.081629  0.257307\n",
      "Pclass   -0.338481  1.000000 -0.369226  0.083081  0.018443 -0.549500\n",
      "Age      -0.077221 -0.369226  1.000000 -0.308247 -0.189119  0.096067\n",
      "SibSp    -0.035322  0.083081 -0.308247  1.000000  0.414838  0.159651\n",
      "Parch     0.081629  0.018443 -0.189119  0.414838  1.000000  0.216225\n",
      "Fare      0.257307 -0.549500  0.096067  0.159651  0.216225  1.000000\n"
     ]
    },
    {
     "data": {
      "image/png": "[encoded data removed]",
      "text/plain": [
       "<matplotlib.figure.Figure at 0x10d9d3400>"
      ]
     },
     "metadata": {},
     "output_type": "display_data"
    }
   ],
   "source": [
    "corrs = data.iloc[:,1:].corr()\n",
    "print(corrs)\n",
    "corr_labels = ['Survived', 'Pclass', 'Age', 'SibSp', 'Parch', 'Fare']\n",
    "\n",
    "fig = plt.figure()\n",
    "ax = fig.add_subplot(111)\n",
    "\n",
    "cax = ax.matshow(corrs, cmap='winter')\n",
    "fig.colorbar(cax)\n",
    "ticks = np.arange(0,6,1)\n",
    "ax.set_xticks(ticks)\n",
    "ax.set_yticks(ticks)\n",
    "ax.set_xticklabels(corr_labels)\n",
    "ax.set_yticklabels(corr_labels)\n",
    "plt.show()"
   ]
  },
  {
   "cell_type": "markdown",
   "metadata": {},
   "source": [
    "Age variable shows a certain level of correlation with Pclass, SibSp, and Parch variables. Therefore, we'll use these variables as features to train a regressor model to fill the missing values in the age column."
   ]
  },
  {
   "cell_type": "markdown",
   "metadata": {},
   "source": [
    "## Data preparation"
   ]
  },
  {
   "cell_type": "code",
   "execution_count": 90,
   "metadata": {},
   "outputs": [],
   "source": [
    "data['Cabin'].fillna(value='N', inplace=True)\n",
    "data['Cabin'] = data['Cabin'].str[0]"
   ]
  },
  {
   "cell_type": "code",
   "execution_count": 91,
   "metadata": {},
   "outputs": [
    {
     "name": "stdout",
     "output_type": "stream",
     "text": [
      "N    687\n",
      "C     59\n",
      "B     47\n",
      "D     33\n",
      "E     32\n",
      "A     15\n",
      "F     13\n",
      "G      4\n",
      "T      1\n",
      "Name: Cabin, dtype: int64\n"
     ]
    }
   ],
   "source": [
    "print(data['Cabin'].value_counts())"
   ]
  },
  {
   "cell_type": "code",
   "execution_count": 93,
   "metadata": {
    "collapsed": true
   },
   "outputs": [],
   "source": [
    "def fill_value_by_ml(row, target_col, feature_cols, model):\n",
    "    features = row[feature_cols]\n",
    "    if np.isnan(row[target_col]):\n",
    "        return float(model.predict([features]))\n",
    "    else:\n",
    "        return row[target_col]"
   ]
  },
  {
   "cell_type": "code",
   "execution_count": 94,
   "metadata": {},
   "outputs": [
    {
     "name": "stdout",
     "output_type": "stream",
     "text": [
      "    Age\n",
      "0  22.0\n",
      "1  38.0\n",
      "2  26.0\n",
      "3  35.0\n",
      "4  35.0\n",
      "   Pclass     Fare  SibSp  Parch\n",
      "0       3   7.2500      1      0\n",
      "1       1  71.2833      1      0\n",
      "2       3   7.9250      0      0\n",
      "3       1  53.1000      1      0\n",
      "4       3   8.0500      0      0\n"
     ]
    }
   ],
   "source": [
    "neighbor_features = data[np.logical_not(data['Age'].isnull())][['Age', 'Pclass', 'Fare', 'SibSp', 'Parch']]\n",
    "age_labels = neighbor_features[['Age']]\n",
    "neighbor_features = neighbor_features.iloc[:,1:]\n",
    "print(age_labels.head())\n",
    "print(neighbor_features.head())"
   ]
  },
  {
   "cell_type": "code",
   "execution_count": 95,
   "metadata": {},
   "outputs": [
    {
     "data": {
      "text/plain": [
       "KNeighborsRegressor(algorithm='auto', leaf_size=30, metric='minkowski',\n",
       "          metric_params=None, n_jobs=1, n_neighbors=5, p=2,\n",
       "          weights='distance')"
      ]
     },
     "execution_count": 95,
     "metadata": {},
     "output_type": "execute_result"
    }
   ],
   "source": [
    "age_regressor = neighbors.KNeighborsRegressor(weights='distance')\n",
    "age_regressor.fit(neighbor_features, age_labels)"
   ]
  },
  {
   "cell_type": "code",
   "execution_count": 96,
   "metadata": {
    "collapsed": true
   },
   "outputs": [],
   "source": [
    "train_target = np.array(data['Survived'])\n",
    "\n",
    "data['Sex'] = data['Sex'].apply(lambda x: 0 if x == 'male' else 1)\n",
    "\n",
    "embark_map = {'C': 0, 'S': 1, 'Q': 2, 'Nan': 3}\n",
    "data['Embarked'].fillna('Nan', inplace=True)\n",
    "data['Embarked'] = data['Embarked'].apply(lambda x: embark_map[x])\n",
    "\n",
    "data['Age'] = data.apply(fill_value_by_ml, axis=1, target_col='Age',\n",
    "                         feature_cols=['Pclass', 'Fare', 'SibSp', 'Parch'], model=age_regressor)"
   ]
  },
  {
   "cell_type": "code",
   "execution_count": 97,
   "metadata": {},
   "outputs": [
    {
     "name": "stdout",
     "output_type": "stream",
     "text": [
      "Pclass\n",
      "1    84.154687\n",
      "2    20.662183\n",
      "3    13.675550\n",
      "Name: Fare, dtype: float64\n"
     ]
    }
   ],
   "source": [
    "fare_means = data.groupby(('Pclass'))['Fare'].mean()\n",
    "print(fare_means)"
   ]
  },
  {
   "cell_type": "code",
   "execution_count": 136,
   "metadata": {},
   "outputs": [
    {
     "name": "stdout",
     "output_type": "stream",
     "text": [
      "   Sex  Embarked\n",
      "0    0         1\n",
      "1    1         0\n",
      "2    1         1\n",
      "3    1         1\n",
      "4    0         1\n",
      "5    0         2\n",
      "6    0         1\n",
      "7    0         1\n",
      "8    1         1\n",
      "9    1         0\n"
     ]
    }
   ],
   "source": [
    "categ_features = data[['Sex', 'Embarked']]\n",
    "print(categ_features.head(10))"
   ]
  },
  {
   "cell_type": "code",
   "execution_count": 137,
   "metadata": {
    "collapsed": true
   },
   "outputs": [],
   "source": [
    "ohe = preprocessing.OneHotEncoder()\n",
    "ohe.fit(categ_features)\n",
    "ohe_categ_features = ohe.transform(categ_features).toarray()"
   ]
  },
  {
   "cell_type": "code",
   "execution_count": 95,
   "metadata": {},
   "outputs": [
    {
     "name": "stdout",
     "output_type": "stream",
     "text": [
      "[[1. 0. 1. 0. 0.]\n",
      " [1. 1. 0. 0. 0.]\n",
      " [1. 0. 1. 0. 0.]\n",
      " ...\n",
      " [1. 0. 1. 0. 0.]\n",
      " [1. 1. 0. 0. 0.]\n",
      " [1. 0. 0. 1. 0.]]\n"
     ]
    }
   ],
   "source": [
    "print(ohe_categ_features)"
   ]
  },
  {
   "cell_type": "code",
   "execution_count": 138,
   "metadata": {
    "collapsed": true
   },
   "outputs": [],
   "source": [
    "num_features = data[['Pclass', 'SibSp', 'Parch', 'Fare', 'Age']]"
   ]
  },
  {
   "cell_type": "code",
   "execution_count": 139,
   "metadata": {
    "collapsed": true
   },
   "outputs": [],
   "source": [
    "train_data = np.column_stack((ohe_categ_features, num_features.values))"
   ]
  },
  {
   "cell_type": "markdown",
   "metadata": {},
   "source": [
    "## Stacked ensemble"
   ]
  },
  {
   "cell_type": "code",
   "execution_count": 102,
   "metadata": {
    "collapsed": true
   },
   "outputs": [],
   "source": [
    "bounds = np.array([[-3, 2]])\n",
    "\n",
    "n_params = bounds.shape[0]\n",
    "n_restarts = 15\n",
    "\n",
    "k_fold = 4\n",
    "\n",
    "sample_vars = np.random.uniform(bounds[:,0], bounds[:,1], size=(n_restarts, n_params))\n",
    "unit_nums = np.arange(2,8)"
   ]
  },
  {
   "cell_type": "code",
   "execution_count": 103,
   "metadata": {},
   "outputs": [
    {
     "name": "stdout",
     "output_type": "stream",
     "text": [
      "Logit model\n",
      "[1] C: 0.40225929431289825, accuracy: 0.659217877094972\n",
      "[2] C: 0.0033030448155284783, accuracy: 0.659217877094972\n",
      "[3] C: 0.18085121055499936, accuracy: 0.6703910614525139\n",
      "[4] C: 1.6943969453469518, accuracy: 0.664804469273743\n",
      "[5] C: 0.056705573149495335, accuracy: 0.6536312849162011\n",
      "[6] C: 5.347943143549741, accuracy: 0.659217877094972\n",
      "[7] C: 0.3259845546301375, accuracy: 0.6703910614525139\n",
      "[8] C: 0.02430510836694731, accuracy: 0.659217877094972\n",
      "[9] C: 33.59638729478687, accuracy: 0.659217877094972\n",
      "[10] C: 0.0013257029527644075, accuracy: 0.6536312849162011\n",
      "[11] C: 0.011108641417866655, accuracy: 0.6536312849162011\n",
      "[12] C: 0.6807854155580672, accuracy: 0.6536312849162011\n",
      "[13] C: 48.23447420436686, accuracy: 0.659217877094972\n",
      "[14] C: 0.496831320712122, accuracy: 0.659217877094972\n",
      "[15] C: 0.032143073680184944, accuracy: 0.659217877094972\n",
      "Neural networks model\n",
      "[1] unit_num: 2, accuracy: 0.5921787709497207\n",
      "[2] unit_num: 3, accuracy: 0.5921787709497207\n",
      "[3] unit_num: 4, accuracy: 0.776536312849162\n",
      "[4] unit_num: 5, accuracy: 0.5921787709497207\n",
      "[5] unit_num: 6, accuracy: 0.5921787709497207\n",
      "[6] unit_num: 7, accuracy: 0.5921787709497207\n",
      "Stacked classifier\n"
     ]
    },
    {
     "name": "stderr",
     "output_type": "stream",
     "text": [
      "/Users/chanuwasaswamenakul/tensorflow/lib/python3.6/site-packages/sklearn/neural_network/multilayer_perceptron.py:564: ConvergenceWarning: Stochastic Optimizer: Maximum iterations (200) reached and the optimization hasn't converged yet.\n",
      "  % self.max_iter, ConvergenceWarning)\n"
     ]
    },
    {
     "name": "stdout",
     "output_type": "stream",
     "text": [
      "[1] C: 0.40225929431289825, accuracy: 0.7472067039106145\n",
      "[2] C: 0.0033030448155284783, accuracy: 0.5921787709497207\n",
      "[3] C: 0.18085121055499936, accuracy: 0.7681564245810055\n",
      "[4] C: 1.6943969453469518, accuracy: 0.770949720670391\n",
      "[5] C: 0.056705573149495335, accuracy: 0.7220670391061453\n",
      "[6] C: 5.347943143549741, accuracy: 0.723463687150838\n",
      "[7] C: 0.3259845546301375, accuracy: 0.6997206703910615\n",
      "[8] C: 0.02430510836694731, accuracy: 0.6675977653631284\n",
      "[9] C: 33.59638729478687, accuracy: 0.7011173184357542\n",
      "[10] C: 0.0013257029527644075, accuracy: 0.5921787709497207\n",
      "[11] C: 0.011108641417866655, accuracy: 0.6159217877094972\n",
      "[12] C: 0.6807854155580672, accuracy: 0.7513966480446927\n",
      "[13] C: 48.23447420436686, accuracy: 0.776536312849162\n",
      "[14] C: 0.496831320712122, accuracy: 0.7346368715083799\n",
      "[15] C: 0.032143073680184944, accuracy: 0.7039106145251396\n"
     ]
    }
   ],
   "source": [
    "acc_scores = np.zeros((3, n_restarts))\n",
    "\n",
    "# Tuning the first classifier for numeric features\n",
    "print('Logit model')\n",
    "for i in range(n_restarts):\n",
    "    c = 10**sample_vars[i][0]\n",
    "    cross_scores = list()\n",
    "    for j in range(k_fold):\n",
    "        x_train, x_val, y_train, y_val = train_test_split(train_data, train_target, test_size=0.2, random_state=1)\n",
    "        train_categ = x_train[:,:6]\n",
    "        val_categ = x_val[:,:6]\n",
    "        train_num = x_train[:,6:]\n",
    "        val_num = x_val[:,6:]\n",
    "\n",
    "        # Classifiers 1: numerical features\n",
    "        clf1 = linear_model.LogisticRegression(C=c, random_state=1)\n",
    "        clf1.fit(train_num, y_train)\n",
    "        \n",
    "        y_pred = clf1.predict(val_num)\n",
    "        acc_score = metrics.accuracy_score(y_val, y_pred)\n",
    "        cross_scores.append(acc_score)\n",
    "        \n",
    "    acc_scores[0][i] = np.mean(cross_scores)\n",
    "    print('[{}] C: {}, accuracy: {}'.format(i+1, c, acc_scores[0][i]))\n",
    "\n",
    "# Tuning the second classifier for categorical features\n",
    "print('Neural networks model')\n",
    "for i in range(unit_nums.shape[0]):\n",
    "    unit_num = unit_nums[i]\n",
    "    cross_scores = list()\n",
    "    for j in range(k_fold):\n",
    "        x_train, x_val, y_train, y_val = train_test_split(train_data, train_target, test_size=0.2, random_state=1)\n",
    "        train_categ = x_train[:,:6]\n",
    "        val_categ = x_val[:,:6]\n",
    "        train_num = x_train[:,6:]\n",
    "        val_num = x_val[:,6:]\n",
    "        \n",
    "        # Classifier 2: categorical features\n",
    "        clf2 = neural_network.MLPClassifier(hidden_layer_sizes=(unit_num,2), max_iter=1000, random_state=1)\n",
    "        clf2.fit(train_categ, y_train)\n",
    "        \n",
    "        y_pred = clf2.predict(val_categ)\n",
    "        acc_score = metrics.accuracy_score(y_val, y_pred)\n",
    "        cross_scores.append(acc_score)\n",
    "        \n",
    "    acc_scores[1][i] = np.mean(cross_scores[1])\n",
    "    print('[{}] unit_num: {}, accuracy: {}'.format(i+1, unit_num, acc_scores[1][i]))\n",
    "    \n",
    "# Extracting the optimal set of hyperparameters\n",
    "best_c = 10**sample_vars[np.argmax(acc_scores[0])][0]\n",
    "best_unit_num = unit_nums[np.argmax(acc_scores[1])]\n",
    "    \n",
    "# Tuning the stacked classifier\n",
    "print('Stacked classifier')\n",
    "for i in range(n_restarts):\n",
    "    c = 10**sample_vars[i][0]\n",
    "    cross_scores = list()\n",
    "    for j in range(k_fold):\n",
    "        x_train, x_val, y_train, y_val = train_test_split(train_data, train_target, test_size=0.2, random_state=1)\n",
    "        train_categ = x_train[:,:6]\n",
    "        val_categ = x_val[:,:6]\n",
    "        train_num = x_train[:,6:]\n",
    "        val_num = x_val[:,6:]\n",
    "        \n",
    "        clf1 = linear_model.LogisticRegression(C=best_c, random_state=1)\n",
    "        clf2 = neural_network.MLPClassifier(hidden_layer_sizes=(best_unit_num,2))\n",
    "        \n",
    "        clf1.fit(train_num, y_train)\n",
    "        clf2.fit(train_categ, y_train)\n",
    "        \n",
    "        # Stacked classifier trained using probabilities from previous classifiers\n",
    "        prb1 = clf1.predict_proba(train_num)\n",
    "        prb2 = clf2.predict_proba(train_categ)\n",
    "        train_prob = np.column_stack((prb1, prb2))\n",
    "\n",
    "        stack_clf = linear_model.LogisticRegression(C=c, random_state=1)\n",
    "        stack_clf.fit(train_prob, y_train)\n",
    "\n",
    "        # Validation test\n",
    "        val_prb1 = clf1.predict_proba(val_num)\n",
    "        val_prb2 = clf2.predict_proba(val_categ)\n",
    "        val_prob = np.column_stack((val_prb1, val_prb2))\n",
    "        y_pred = stack_clf.predict(val_prob)\n",
    "\n",
    "        acc_score = metrics.accuracy_score(y_val, y_pred)\n",
    "        #confusion_mat = metrics.confusion_matrix(y_val, y_pred)\n",
    "        \n",
    "        cross_scores.append(acc_score)\n",
    "    acc_scores[2][i] = np.mean(cross_scores)\n",
    "    print('[{}] C: {}, accuracy: {}'.format(i+1, c, acc_scores[2][i]))\n",
    "    \n",
    "best_c2 = 10**sample_vars[np.argmax(acc_scores[2])][0]"
   ]
  },
  {
   "cell_type": "markdown",
   "metadata": {},
   "source": [
    "# Test"
   ]
  },
  {
   "cell_type": "code",
   "execution_count": 105,
   "metadata": {},
   "outputs": [],
   "source": [
    "test_df = pd.read_csv('test.csv')"
   ]
  },
  {
   "cell_type": "code",
   "execution_count": 109,
   "metadata": {},
   "outputs": [
    {
     "name": "stdout",
     "output_type": "stream",
     "text": [
      "Pclass\n",
      "1    84.154687\n",
      "2    20.662183\n",
      "3    13.675550\n",
      "Name: Fare, dtype: float64\n"
     ]
    }
   ],
   "source": [
    "print(fare_means)"
   ]
  },
  {
   "cell_type": "code",
   "execution_count": null,
   "metadata": {
    "collapsed": true
   },
   "outputs": [],
   "source": [
    "test_df['Embarked'].fillna('Nan', inplace=True)\n",
    "test_df['Embarked'] = test_df['Embarked'].apply(lambda x: embark_map[x])"
   ]
  },
  {
   "cell_type": "code",
   "execution_count": 117,
   "metadata": {},
   "outputs": [],
   "source": [
    "test_df['Sex'] = test_df['Sex'].apply(lambda x: 0 if x == 'male' else 1)\n",
    "\n",
    "test_df['Fare'] = test_df.apply(lambda x: x.loc['Fare'] if not np.isnan(x.loc['Fare']) else fare_means[x.loc['Pclass']],\n",
    "                                axis=1)\n",
    "\n",
    "test_df['Age'] = test_df.apply(fill_value_by_ml, axis=1, target_col='Age',\n",
    "                               feature_cols=['Pclass', 'Fare', 'SibSp', 'Parch'], model=age_regressor)"
   ]
  },
  {
   "cell_type": "code",
   "execution_count": 125,
   "metadata": {},
   "outputs": [
    {
     "name": "stdout",
     "output_type": "stream",
     "text": [
      "<class 'pandas.core.frame.DataFrame'>\n",
      "RangeIndex: 418 entries, 0 to 417\n",
      "Data columns (total 11 columns):\n",
      "PassengerId    418 non-null int64\n",
      "Pclass         418 non-null int64\n",
      "Name           418 non-null object\n",
      "Sex            418 non-null int64\n",
      "Age            418 non-null float64\n",
      "SibSp          418 non-null int64\n",
      "Parch          418 non-null int64\n",
      "Ticket         418 non-null object\n",
      "Fare           418 non-null float64\n",
      "Cabin          91 non-null object\n",
      "Embarked       418 non-null int64\n",
      "dtypes: float64(2), int64(6), object(3)\n",
      "memory usage: 36.0+ KB\n",
      "None\n",
      "   PassengerId  Pclass                                          Name  Sex  \\\n",
      "0          892       3                              Kelly, Mr. James    1   \n",
      "1          893       3              Wilkes, Mrs. James (Ellen Needs)    1   \n",
      "2          894       2                     Myles, Mr. Thomas Francis    1   \n",
      "3          895       3                              Wirz, Mr. Albert    1   \n",
      "4          896       3  Hirvonen, Mrs. Alexander (Helga E Lindqvist)    1   \n",
      "\n",
      "    Age  SibSp  Parch   Ticket     Fare Cabin  Embarked  \n",
      "0  34.5      0      0   330911   7.8292   NaN         2  \n",
      "1  47.0      1      0   363272   7.0000   NaN         1  \n",
      "2  62.0      0      0   240276   9.6875   NaN         2  \n",
      "3  27.0      0      0   315154   8.6625   NaN         1  \n",
      "4  22.0      1      1  3101298  12.2875   NaN         1  \n"
     ]
    }
   ],
   "source": [
    "print(test_df.info())\n",
    "print(test_df.head())"
   ]
  },
  {
   "cell_type": "code",
   "execution_count": 140,
   "metadata": {},
   "outputs": [],
   "source": [
    "categ_features = test_df[['Sex', 'Embarked']]\n",
    "\n",
    "ohe_categ_features = ohe.transform(categ_features).toarray()\n",
    "\n",
    "num_features = test_df[['Pclass', 'SibSp', 'Parch', 'Fare', 'Age']]\n",
    "\n",
    "test_data = np.column_stack((ohe_categ_features, num_features.values))"
   ]
  },
  {
   "cell_type": "code",
   "execution_count": 141,
   "metadata": {},
   "outputs": [
    {
     "name": "stdout",
     "output_type": "stream",
     "text": [
      "(891, 11)\n",
      "(418, 11)\n"
     ]
    }
   ],
   "source": [
    "print(train_data.shape)\n",
    "print(test_data.shape)"
   ]
  },
  {
   "cell_type": "code",
   "execution_count": 142,
   "metadata": {},
   "outputs": [
    {
     "data": {
      "text/plain": [
       "LogisticRegression(C=48.23447420436686, class_weight=None, dual=False,\n",
       "          fit_intercept=True, intercept_scaling=1, max_iter=100,\n",
       "          multi_class='ovr', n_jobs=1, penalty='l2', random_state=1,\n",
       "          solver='liblinear', tol=0.0001, verbose=0, warm_start=False)"
      ]
     },
     "execution_count": 142,
     "metadata": {},
     "output_type": "execute_result"
    }
   ],
   "source": [
    "train_categ = train_data[:,:6]\n",
    "train_num = train_data[:,6:]\n",
    "\n",
    "clf1 = linear_model.LogisticRegression(C=best_c, random_state=1)\n",
    "clf2 = neural_network.MLPClassifier(hidden_layer_sizes=(best_unit_num,2))\n",
    "        \n",
    "clf1.fit(train_num, train_target)\n",
    "clf2.fit(train_categ, train_target)\n",
    "        \n",
    "# Stacked classifier trained using probabilities from previous classifiers\n",
    "prb1 = clf1.predict_proba(train_num)\n",
    "prb2 = clf2.predict_proba(train_categ)\n",
    "train_prob = np.column_stack((prb1, prb2))\n",
    "\n",
    "stack_clf = linear_model.LogisticRegression(C=best_c2, random_state=1)\n",
    "stack_clf.fit(train_prob, train_target)"
   ]
  },
  {
   "cell_type": "code",
   "execution_count": 143,
   "metadata": {},
   "outputs": [],
   "source": [
    "test_categ = test_data[:,:6]\n",
    "test_num = test_data[:,6:]\n",
    "\n",
    "prb1 = clf1.predict_proba(test_num)\n",
    "prb2 = clf2.predict_proba(test_categ)\n",
    "test_prob = np.column_stack((prb1, prb2))\n",
    "\n",
    "test_pred = stack_clf.predict(test_prob)"
   ]
  },
  {
   "cell_type": "code",
   "execution_count": 132,
   "metadata": {},
   "outputs": [
    {
     "name": "stdout",
     "output_type": "stream",
     "text": [
      "(891,)\n"
     ]
    }
   ],
   "source": [
    "print(test_pred.shape)"
   ]
  },
  {
   "cell_type": "code",
   "execution_count": 145,
   "metadata": {},
   "outputs": [],
   "source": [
    "output_df = pd.DataFrame(test_df['PassengerId'])\n",
    "output_df['Survived'] = test_pred\n",
    "output_df.to_csv('titanic_submission.csv', index=False)"
   ]
  },
  {
   "cell_type": "code",
   "execution_count": null,
   "metadata": {
    "collapsed": true
   },
   "outputs": [],
   "source": []
  }
 ],
 "metadata": {
  "kernelspec": {
   "display_name": "Python 3",
   "language": "python",
   "name": "python3"
  },
  "language_info": {
   "codemirror_mode": {
    "name": "ipython",
    "version": 3
   },
   "file_extension": ".py",
   "mimetype": "text/x-python",
   "name": "python",
   "nbconvert_exporter": "python",
   "pygments_lexer": "ipython3",
   "version": "3.6.1"
  }
 },
 "nbformat": 4,
 "nbformat_minor": 2
}
