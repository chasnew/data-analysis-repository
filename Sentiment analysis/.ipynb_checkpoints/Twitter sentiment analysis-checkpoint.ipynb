{
 "cells": [
  {
   "cell_type": "code",
   "execution_count": 8,
   "metadata": {
    "collapsed": true
   },
   "outputs": [],
   "source": [
    "import numpy as np\n",
    "import pandas as pd\n",
    "import os\n",
    "from collections import Counter\n",
    "import subprocess\n",
    "import matplotlib.pyplot as plt\n",
    "import pickle\n",
    "\n",
    "from sklearn.feature_extraction.text import CountVectorizer"
   ]
  },
  {
   "cell_type": "code",
   "execution_count": 27,
   "metadata": {},
   "outputs": [],
   "source": [
    "twt_df = pd.read_csv('data/train.csv', encoding='latin1')"
   ]
  },
  {
   "cell_type": "code",
   "execution_count": 28,
   "metadata": {},
   "outputs": [
    {
     "data": {
      "text/html": [
       "<div>\n",
       "<style scoped>\n",
       "    .dataframe tbody tr th:only-of-type {\n",
       "        vertical-align: middle;\n",
       "    }\n",
       "\n",
       "    .dataframe tbody tr th {\n",
       "        vertical-align: top;\n",
       "    }\n",
       "\n",
       "    .dataframe thead th {\n",
       "        text-align: right;\n",
       "    }\n",
       "</style>\n",
       "<table border=\"1\" class=\"dataframe\">\n",
       "  <thead>\n",
       "    <tr style=\"text-align: right;\">\n",
       "      <th></th>\n",
       "      <th>ItemID</th>\n",
       "      <th>Sentiment</th>\n",
       "      <th>SentimentText</th>\n",
       "    </tr>\n",
       "  </thead>\n",
       "  <tbody>\n",
       "    <tr>\n",
       "      <th>0</th>\n",
       "      <td>1</td>\n",
       "      <td>0</td>\n",
       "      <td>is so sad for my APL frie...</td>\n",
       "    </tr>\n",
       "    <tr>\n",
       "      <th>1</th>\n",
       "      <td>2</td>\n",
       "      <td>0</td>\n",
       "      <td>I missed the New Moon trail...</td>\n",
       "    </tr>\n",
       "    <tr>\n",
       "      <th>2</th>\n",
       "      <td>3</td>\n",
       "      <td>1</td>\n",
       "      <td>omg its already 7:30 :O</td>\n",
       "    </tr>\n",
       "    <tr>\n",
       "      <th>3</th>\n",
       "      <td>4</td>\n",
       "      <td>0</td>\n",
       "      <td>.. Omgaga. Im sooo  im gunna CRy. I'...</td>\n",
       "    </tr>\n",
       "    <tr>\n",
       "      <th>4</th>\n",
       "      <td>5</td>\n",
       "      <td>0</td>\n",
       "      <td>i think mi bf is cheating on me!!!   ...</td>\n",
       "    </tr>\n",
       "  </tbody>\n",
       "</table>\n",
       "</div>"
      ],
      "text/plain": [
       "   ItemID  Sentiment                                      SentimentText\n",
       "0       1          0                       is so sad for my APL frie...\n",
       "1       2          0                     I missed the New Moon trail...\n",
       "2       3          1                            omg its already 7:30 :O\n",
       "3       4          0            .. Omgaga. Im sooo  im gunna CRy. I'...\n",
       "4       5          0           i think mi bf is cheating on me!!!   ..."
      ]
     },
     "execution_count": 28,
     "metadata": {},
     "output_type": "execute_result"
    }
   ],
   "source": [
    "twt_df.head()"
   ]
  },
  {
   "cell_type": "code",
   "execution_count": 22,
   "metadata": {},
   "outputs": [
    {
     "data": {
      "text/plain": [
       "(99989, 3)"
      ]
     },
     "execution_count": 22,
     "metadata": {},
     "output_type": "execute_result"
    }
   ],
   "source": [
    "twt_df.shape"
   ]
  },
  {
   "cell_type": "code",
   "execution_count": 30,
   "metadata": {},
   "outputs": [
    {
     "data": {
      "text/plain": [
       "0                             is so sad for my apl frie...\n",
       "1                           i missed the new moon trail...\n",
       "2                                  omg its already 7:30 :o\n",
       "3                  .. omgaga. im sooo  im gunna cry. i'...\n",
       "4                 i think mi bf is cheating on me!!!   ...\n",
       "5                        or i just worry too much?        \n",
       "6                       juuuuuuuuuuuuuuuuussssst chillin!!\n",
       "7               sunny again        work tomorrow  :-|  ...\n",
       "8              handed in my uniform today . i miss you ...\n",
       "9                 hmmmm.... i wonder how she my number @-)\n",
       "10                           i must think about positive..\n",
       "11             thanks to all the haters up in my face a...\n",
       "12                          this weekend has sucked so far\n",
       "13                  jb isnt showing in australia any more!\n",
       "14                                    ok thats it you win.\n",
       "15           &lt;-------- this is the way i feel right ...\n",
       "16           awhhe man.... i'm completely useless rt no...\n",
       "17           feeling strangely fine. now i'm gonna go l...\n",
       "18            huge roll of thunder just now...so scary!!!!\n",
       "19           i just cut my beard off. it's only been gr...\n",
       "20                                    very sad about iran.\n",
       "21                                           wompppp wompp\n",
       "22           you're the only one who can see this cause...\n",
       "23          &lt;---sad level is 3. i was writing a mass...\n",
       "24          ...  headed to hospitol : had to pull out o...\n",
       "25          boring   ): whats wrong with him??     plea...\n",
       "26          can't be bothered. i wish i could spend the...\n",
       "27          feeeling like shit right now. i really want...\n",
       "28                   goodbye exams, hello alcohol tonight \n",
       "29          i didn't realize it was that deep. geez giv...\n",
       "                               ...                        \n",
       "99959    @ct415 @ucla_bruin  it made me sad too!  that ...\n",
       "99960    @ct415 i agree. i think they all have that fet...\n",
       "99961    @ct415 i hope it's not too serious of an injur...\n",
       "99962    @ctabita if it's any consolation, this weekend...\n",
       "99963                          @ctayah got your back, yo! \n",
       "99964    @ctaylor0127 i can't wait to see that movie. e...\n",
       "99965    @ctaylor10127 @smelby i am excited and a littl...\n",
       "99966    @ctb1221 yeah  sorry.going to a concert that n...\n",
       "99967    @ctcash @buildingateam @diabetescure @chocolat...\n",
       "99968    @ctdesign87 im so glad you went to china town ...\n",
       "99969                                   @cterry1985  sorry\n",
       "99970                  @cterry1985 damn it, dont have sky \n",
       "99971    @cterry1985 that's the thing; the new raft of ...\n",
       "99972                                            @cthagod \n",
       "99973                                @ctham  #followfriday\n",
       "99974    @ctham #awaresg you are not wrong. but from a ...\n",
       "99975    @ctham @mommyfizz cuz you big burly man.  haha...\n",
       "99976    @ctham @wilsurn trying to get a wider range of...\n",
       "99977      @ctham haha i love the passion in your support \n",
       "99978    @cthulhullahoop that sucks...i like living in ...\n",
       "99979    @cunningstunts till i can go home been here ti...\n",
       "99980           @cunningstunts22 afternoon jim hows you  x\n",
       "99981    @cup_a_tea the foot is really bad. like the wo...\n",
       "99982    @cup_of_katy have fun doing health &amp; safet...\n",
       "99983    @cupati it took me waaay too long to get your ...\n",
       "99984    @cupcake  seems like a repeating problem   hop...\n",
       "99985    @cupcake__ arrrr we both replied to each other...\n",
       "99986                       @cupcake_2120 ya i thought so \n",
       "99987    @cupcake_dollie yes. yes. i'm glad you had mor...\n",
       "99988                      @cupcake_kayla haha yes you do \n",
       "Name: SentimentText, Length: 99989, dtype: object"
      ]
     },
     "execution_count": 30,
     "metadata": {},
     "output_type": "execute_result"
    }
   ],
   "source": [
    "twt_df['SentimentText'].str.lower()"
   ]
  },
  {
   "cell_type": "code",
   "execution_count": 34,
   "metadata": {},
   "outputs": [],
   "source": [
    "vectorizer = CountVectorizer(analyzer='word', lowercase=True)\n",
    "features = vectorizer.fit_transform(twt_df['SentimentText'])"
   ]
  },
  {
   "cell_type": "code",
   "execution_count": 35,
   "metadata": {},
   "outputs": [
    {
     "data": {
      "text/plain": [
       "105849"
      ]
     },
     "execution_count": 35,
     "metadata": {},
     "output_type": "execute_result"
    }
   ],
   "source": [
    "len(vectorizer.vocabulary_)"
   ]
  },
  {
   "cell_type": "code",
   "execution_count": null,
   "metadata": {
    "collapsed": true
   },
   "outputs": [],
   "source": []
  }
 ],
 "metadata": {
  "kernelspec": {
   "display_name": "Python 3",
   "language": "python",
   "name": "python3"
  },
  "language_info": {
   "codemirror_mode": {
    "name": "ipython",
    "version": 3
   },
   "file_extension": ".py",
   "mimetype": "text/x-python",
   "name": "python",
   "nbconvert_exporter": "python",
   "pygments_lexer": "ipython3",
   "version": "3.6.1"
  }
 },
 "nbformat": 4,
 "nbformat_minor": 2
}
